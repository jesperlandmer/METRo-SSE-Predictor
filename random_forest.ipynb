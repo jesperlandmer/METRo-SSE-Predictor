{
 "cells": [
  {
   "cell_type": "code",
   "execution_count": 11,
   "metadata": {},
   "outputs": [],
   "source": [
    "import pandas as pd\n",
    "import numpy as np\n",
    "\n",
    "def loader():\n",
    "    \"\"\"Reading data from keys\"\"\"\n",
    "    with open(\"data/keys.txt\", \"r\") as f:\n",
    "        keys = eval(f.read())\n",
    "\n",
    "    dictex = {}    \n",
    "    for key in keys:\n",
    "        dictex[key] = pd.read_csv(\"data/data_{}.csv\".format(str(key)))\n",
    "\n",
    "    return dictex"
   ]
  },
  {
   "cell_type": "code",
   "execution_count": 2,
   "metadata": {},
   "outputs": [],
   "source": [
    "df = loader()"
   ]
  },
  {
   "cell_type": "code",
   "execution_count": 3,
   "metadata": {},
   "outputs": [],
   "source": [
    "# from horizon_handler\n",
    "HORIZON_FEATURES = ['radiation', 'shade']\n",
    "\n",
    "# from SMHI\n",
    "FCST_FEATURES = ['AirTemp', 'DewPoint', 'RainPrecip', 'SnowPrecip', 'SnowPrecipAccumulated', 'WindSpeed',\n",
    "                 'AirPressure', 'OctalCloudCoverage', 'PrecipAmount']\n",
    "# from METRo\n",
    "EBM_FEATURES = ['air_temp', 'dew_point', 'surf_temp', 'water_amount', 'snow_amount', 'sub_temp']\n",
    "\n",
    "\n",
    "# setting the independent and dependent features\n",
    "INDEPENDENT_FEATURES = HORIZON_FEATURES + FCST_FEATURES + EBM_FEATURES"
   ]
  },
  {
   "cell_type": "code",
   "execution_count": 4,
   "metadata": {},
   "outputs": [],
   "source": [
    "# Random Forest parameters\n",
    "RFR_PARAMS = {\n",
    "    'n_estimators': 60,\n",
    "    'max_features': 'sqrt',\n",
    "    'min_samples_leaf': 10,\n",
    "    'max_depth': 8}"
   ]
  },
  {
   "cell_type": "code",
   "execution_count": 5,
   "metadata": {},
   "outputs": [],
   "source": [
    "from sklearn.model_selection import train_test_split\n",
    "from sklearn.metrics import mean_squared_error, mean_absolute_error\n",
    "from sklearn import preprocessing\n",
    "from sklearn.ensemble import RandomForestRegressor\n",
    "from sklearn.model_selection import RandomizedSearchCV\n",
    "import sys\n",
    "import pickle\n",
    "\n",
    "def get_best_parameters(samples, targets):\n",
    "    # Number of trees in random forest\n",
    "    n_estimators = [int(x) for x in np.linspace(start = 10, stop = 200, num = 10)]\n",
    "    # Number of features to consider at every split\n",
    "    max_features = ['auto', 'sqrt']\n",
    "    # Maximum number of levels in tree\n",
    "    max_depth = [int(x) for x in np.linspace(10, 110, num = 11)]\n",
    "    max_depth.append(None)\n",
    "    # Minimum number of samples required to split a node\n",
    "    min_samples_split = [2, 5, 10]\n",
    "    # Minimum number of samples required at each leaf node\n",
    "    min_samples_leaf = [1, 2, 4]\n",
    "    # Method of selecting samples for training each tree\n",
    "    bootstrap = [True, False]\n",
    "    # Create the random grid\n",
    "    random_grid = {'n_estimators': n_estimators,\n",
    "                   'max_features': max_features,\n",
    "                   'max_depth': max_depth,\n",
    "                   'min_samples_split': min_samples_split,\n",
    "                   'min_samples_leaf': min_samples_leaf,\n",
    "                   'bootstrap': bootstrap}\n",
    "    \n",
    "    # Use the random grid to search for best hyperparameters\n",
    "    # First create the base model to tune\n",
    "    rf = RandomForestRegressor()\n",
    "    # Random search of parameters, using 3 fold cross validation, \n",
    "    # search across 100 different combinations, and use all available cores\n",
    "    rf_random = RandomizedSearchCV(estimator = rf, param_distributions = random_grid, n_iter = 100, cv = 3, verbose=2, random_state=42, n_jobs = -1)\n",
    "    # Fit the random search model\n",
    "    rf_random.fit(samples, targets)\n",
    "    \n",
    "    return rf_random.best_params_\n",
    "\n",
    "def fit_forest(samples, targets, params=RFR_PARAMS):\n",
    "    model = RandomForestRegressor(**params).fit(samples, targets)\n",
    "    #p = pickle.dumps(model)\n",
    "    #print(sys.getsizeof(p))\n",
    "    return model\n",
    "\n",
    "def forecast_forest(model, samples):\n",
    "    predictions = model.predict(samples)\n",
    "    return predictions\n",
    "\n",
    "def getValues(data):\n",
    "    data.set_index(\"Date Time\", inplace=True)\n",
    "    included = np.array(data[INDEPENDENT_FEATURES + ['surf_temp_sqerror']].notnull().all(axis=1))\n",
    "    rsi = {\n",
    "        \"data\": data.loc[included, INDEPENDENT_FEATURES].values.astype(np.float), \n",
    "        \"target\": data.loc[included, 'surf_temp_sqerror'].values.astype(np.float)\n",
    "    }\n",
    "    return train_test_split(rsi[\"data\"], rsi[\"target\"], test_size=0.3, random_state=0)\n"
   ]
  },
  {
   "cell_type": "code",
   "execution_count": 18,
   "metadata": {},
   "outputs": [
    {
     "name": "stdout",
     "output_type": "stream",
     "text": [
      "Fitting 3 folds for each of 100 candidates, totalling 300 fits\n"
     ]
    },
    {
     "name": "stderr",
     "output_type": "stream",
     "text": [
      "[Parallel(n_jobs=-1)]: Using backend LokyBackend with 4 concurrent workers.\n",
      "[Parallel(n_jobs=-1)]: Done  33 tasks      | elapsed:   17.4s\n",
      "[Parallel(n_jobs=-1)]: Done 154 tasks      | elapsed:  1.2min\n",
      "[Parallel(n_jobs=-1)]: Done 300 out of 300 | elapsed:  2.4min finished\n"
     ]
    },
    {
     "name": "stdout",
     "output_type": "stream",
     "text": [
      "(1419, 1) {'n_estimators': 136, 'min_samples_split': 2, 'min_samples_leaf': 4, 'max_features': 'sqrt', 'max_depth': 80, 'bootstrap': False}\n",
      "Fitting 3 folds for each of 100 candidates, totalling 300 fits\n"
     ]
    },
    {
     "name": "stderr",
     "output_type": "stream",
     "text": [
      "[Parallel(n_jobs=-1)]: Using backend LokyBackend with 4 concurrent workers.\n",
      "[Parallel(n_jobs=-1)]: Done  33 tasks      | elapsed:   12.6s\n",
      "[Parallel(n_jobs=-1)]: Done 154 tasks      | elapsed:  1.1min\n",
      "[Parallel(n_jobs=-1)]: Done 300 out of 300 | elapsed:  2.2min finished\n",
      "/Users/Jesper/miniconda/envs/py36/lib/python3.6/site-packages/sklearn/model_selection/_search.py:841: DeprecationWarning: The default of the `iid` parameter will change from True to False in version 0.22 and will be removed in 0.24. This will change numeric results when test-set sizes are unequal.\n",
      "  DeprecationWarning)\n"
     ]
    },
    {
     "name": "stdout",
     "output_type": "stream",
     "text": [
      "(1419, 5) {'n_estimators': 31, 'min_samples_split': 2, 'min_samples_leaf': 1, 'max_features': 'sqrt', 'max_depth': None, 'bootstrap': False}\n",
      "Fitting 3 folds for each of 100 candidates, totalling 300 fits\n"
     ]
    },
    {
     "name": "stderr",
     "output_type": "stream",
     "text": [
      "[Parallel(n_jobs=-1)]: Using backend LokyBackend with 4 concurrent workers.\n",
      "[Parallel(n_jobs=-1)]: Done  33 tasks      | elapsed:   14.5s\n",
      "[Parallel(n_jobs=-1)]: Done 154 tasks      | elapsed:  1.2min\n",
      "[Parallel(n_jobs=-1)]: Done 300 out of 300 | elapsed:  2.1min finished\n"
     ]
    },
    {
     "name": "stdout",
     "output_type": "stream",
     "text": [
      "(1419, 9) {'n_estimators': 31, 'min_samples_split': 2, 'min_samples_leaf': 1, 'max_features': 'sqrt', 'max_depth': None, 'bootstrap': False}\n",
      "Fitting 3 folds for each of 100 candidates, totalling 300 fits\n"
     ]
    },
    {
     "name": "stderr",
     "output_type": "stream",
     "text": [
      "[Parallel(n_jobs=-1)]: Using backend LokyBackend with 4 concurrent workers.\n",
      "[Parallel(n_jobs=-1)]: Done  41 tasks      | elapsed:   17.0s\n",
      "[Parallel(n_jobs=-1)]: Done 162 tasks      | elapsed:  1.2min\n",
      "[Parallel(n_jobs=-1)]: Done 300 out of 300 | elapsed:  2.1min finished\n"
     ]
    },
    {
     "name": "stdout",
     "output_type": "stream",
     "text": [
      "(1419, 18) {'n_estimators': 31, 'min_samples_split': 2, 'min_samples_leaf': 1, 'max_features': 'sqrt', 'max_depth': None, 'bootstrap': False}\n",
      "Fitting 3 folds for each of 100 candidates, totalling 300 fits\n"
     ]
    },
    {
     "name": "stderr",
     "output_type": "stream",
     "text": [
      "[Parallel(n_jobs=-1)]: Using backend LokyBackend with 4 concurrent workers.\n",
      "[Parallel(n_jobs=-1)]: Done  41 tasks      | elapsed:   16.7s\n",
      "[Parallel(n_jobs=-1)]: Done 162 tasks      | elapsed:  1.2min\n",
      "[Parallel(n_jobs=-1)]: Done 300 out of 300 | elapsed:  2.1min finished\n",
      "/Users/Jesper/miniconda/envs/py36/lib/python3.6/site-packages/sklearn/model_selection/_search.py:841: DeprecationWarning: The default of the `iid` parameter will change from True to False in version 0.22 and will be removed in 0.24. This will change numeric results when test-set sizes are unequal.\n",
      "  DeprecationWarning)\n"
     ]
    },
    {
     "name": "stdout",
     "output_type": "stream",
     "text": [
      "(1433, 1) {'n_estimators': 52, 'min_samples_split': 10, 'min_samples_leaf': 2, 'max_features': 'sqrt', 'max_depth': 60, 'bootstrap': True}\n",
      "Fitting 3 folds for each of 100 candidates, totalling 300 fits\n"
     ]
    },
    {
     "name": "stderr",
     "output_type": "stream",
     "text": [
      "[Parallel(n_jobs=-1)]: Using backend LokyBackend with 4 concurrent workers.\n",
      "[Parallel(n_jobs=-1)]: Done  33 tasks      | elapsed:   14.2s\n",
      "[Parallel(n_jobs=-1)]: Done 154 tasks      | elapsed:  1.0min\n",
      "[Parallel(n_jobs=-1)]: Done 300 out of 300 | elapsed:  2.0min finished\n"
     ]
    },
    {
     "name": "stdout",
     "output_type": "stream",
     "text": [
      "(1433, 5) {'n_estimators': 73, 'min_samples_split': 5, 'min_samples_leaf': 1, 'max_features': 'sqrt', 'max_depth': 100, 'bootstrap': False}\n",
      "Fitting 3 folds for each of 100 candidates, totalling 300 fits\n"
     ]
    },
    {
     "name": "stderr",
     "output_type": "stream",
     "text": [
      "[Parallel(n_jobs=-1)]: Using backend LokyBackend with 4 concurrent workers.\n",
      "[Parallel(n_jobs=-1)]: Done  41 tasks      | elapsed:   16.6s\n",
      "[Parallel(n_jobs=-1)]: Done 162 tasks      | elapsed:  1.1min\n",
      "[Parallel(n_jobs=-1)]: Done 300 out of 300 | elapsed:  2.0min finished\n"
     ]
    },
    {
     "name": "stdout",
     "output_type": "stream",
     "text": [
      "(1433, 9) {'n_estimators': 157, 'min_samples_split': 5, 'min_samples_leaf': 1, 'max_features': 'sqrt', 'max_depth': 70, 'bootstrap': False}\n",
      "Fitting 3 folds for each of 100 candidates, totalling 300 fits\n"
     ]
    },
    {
     "name": "stderr",
     "output_type": "stream",
     "text": [
      "[Parallel(n_jobs=-1)]: Using backend LokyBackend with 4 concurrent workers.\n",
      "[Parallel(n_jobs=-1)]: Done  33 tasks      | elapsed:   13.8s\n",
      "[Parallel(n_jobs=-1)]: Done 154 tasks      | elapsed:  1.0min\n",
      "[Parallel(n_jobs=-1)]: Done 300 out of 300 | elapsed:  2.0min finished\n"
     ]
    },
    {
     "name": "stdout",
     "output_type": "stream",
     "text": [
      "(1433, 18) {'n_estimators': 31, 'min_samples_split': 2, 'min_samples_leaf': 1, 'max_features': 'sqrt', 'max_depth': None, 'bootstrap': False}\n",
      "Fitting 3 folds for each of 100 candidates, totalling 300 fits\n"
     ]
    },
    {
     "name": "stderr",
     "output_type": "stream",
     "text": [
      "[Parallel(n_jobs=-1)]: Using backend LokyBackend with 4 concurrent workers.\n",
      "[Parallel(n_jobs=-1)]: Done  41 tasks      | elapsed:   16.1s\n",
      "[Parallel(n_jobs=-1)]: Done 162 tasks      | elapsed:  1.1min\n",
      "[Parallel(n_jobs=-1)]: Done 300 out of 300 | elapsed:  2.0min finished\n",
      "/Users/Jesper/miniconda/envs/py36/lib/python3.6/site-packages/sklearn/model_selection/_search.py:841: DeprecationWarning: The default of the `iid` parameter will change from True to False in version 0.22 and will be removed in 0.24. This will change numeric results when test-set sizes are unequal.\n",
      "  DeprecationWarning)\n",
      "[Parallel(n_jobs=-1)]: Using backend LokyBackend with 4 concurrent workers.\n"
     ]
    },
    {
     "name": "stdout",
     "output_type": "stream",
     "text": [
      "(1440, 1) {'n_estimators': 31, 'min_samples_split': 10, 'min_samples_leaf': 4, 'max_features': 'sqrt', 'max_depth': 90, 'bootstrap': True}\n",
      "Fitting 3 folds for each of 100 candidates, totalling 300 fits\n"
     ]
    },
    {
     "name": "stderr",
     "output_type": "stream",
     "text": [
      "[Parallel(n_jobs=-1)]: Done  41 tasks      | elapsed:   18.8s\n",
      "[Parallel(n_jobs=-1)]: Done 162 tasks      | elapsed:  1.5min\n",
      "[Parallel(n_jobs=-1)]: Done 300 out of 300 | elapsed:  2.7min finished\n"
     ]
    },
    {
     "name": "stdout",
     "output_type": "stream",
     "text": [
      "(1440, 5) {'n_estimators': 31, 'min_samples_split': 2, 'min_samples_leaf': 1, 'max_features': 'sqrt', 'max_depth': None, 'bootstrap': False}\n",
      "Fitting 3 folds for each of 100 candidates, totalling 300 fits\n"
     ]
    },
    {
     "name": "stderr",
     "output_type": "stream",
     "text": [
      "[Parallel(n_jobs=-1)]: Using backend LokyBackend with 4 concurrent workers.\n",
      "[Parallel(n_jobs=-1)]: Done  41 tasks      | elapsed:   19.8s\n",
      "[Parallel(n_jobs=-1)]: Done 162 tasks      | elapsed:  1.3min\n",
      "[Parallel(n_jobs=-1)]: Done 300 out of 300 | elapsed:  2.1min finished\n"
     ]
    },
    {
     "name": "stdout",
     "output_type": "stream",
     "text": [
      "(1440, 9) {'n_estimators': 31, 'min_samples_split': 2, 'min_samples_leaf': 1, 'max_features': 'sqrt', 'max_depth': None, 'bootstrap': False}\n",
      "Fitting 3 folds for each of 100 candidates, totalling 300 fits\n"
     ]
    },
    {
     "name": "stderr",
     "output_type": "stream",
     "text": [
      "[Parallel(n_jobs=-1)]: Using backend LokyBackend with 4 concurrent workers.\n",
      "[Parallel(n_jobs=-1)]: Done  41 tasks      | elapsed:   15.9s\n",
      "[Parallel(n_jobs=-1)]: Done 162 tasks      | elapsed:  1.2min\n",
      "[Parallel(n_jobs=-1)]: Done 300 out of 300 | elapsed:  2.1min finished\n"
     ]
    },
    {
     "name": "stdout",
     "output_type": "stream",
     "text": [
      "(1440, 18) {'n_estimators': 31, 'min_samples_split': 2, 'min_samples_leaf': 1, 'max_features': 'sqrt', 'max_depth': None, 'bootstrap': False}\n",
      "Fitting 3 folds for each of 100 candidates, totalling 300 fits\n"
     ]
    },
    {
     "name": "stderr",
     "output_type": "stream",
     "text": [
      "[Parallel(n_jobs=-1)]: Using backend LokyBackend with 4 concurrent workers.\n",
      "[Parallel(n_jobs=-1)]: Done  41 tasks      | elapsed:   16.1s\n",
      "[Parallel(n_jobs=-1)]: Done 162 tasks      | elapsed:  1.2min\n",
      "[Parallel(n_jobs=-1)]: Done 300 out of 300 | elapsed:  2.1min finished\n",
      "/Users/Jesper/miniconda/envs/py36/lib/python3.6/site-packages/sklearn/model_selection/_search.py:841: DeprecationWarning: The default of the `iid` parameter will change from True to False in version 0.22 and will be removed in 0.24. This will change numeric results when test-set sizes are unequal.\n",
      "  DeprecationWarning)\n"
     ]
    },
    {
     "name": "stdout",
     "output_type": "stream",
     "text": [
      "(1417, 1) {'n_estimators': 178, 'min_samples_split': 2, 'min_samples_leaf': 4, 'max_features': 'sqrt', 'max_depth': 90, 'bootstrap': True}\n",
      "Fitting 3 folds for each of 100 candidates, totalling 300 fits\n"
     ]
    },
    {
     "name": "stderr",
     "output_type": "stream",
     "text": [
      "[Parallel(n_jobs=-1)]: Using backend LokyBackend with 4 concurrent workers.\n",
      "[Parallel(n_jobs=-1)]: Done  41 tasks      | elapsed:   16.4s\n",
      "[Parallel(n_jobs=-1)]: Done 162 tasks      | elapsed:  1.1min\n",
      "[Parallel(n_jobs=-1)]: Done 300 out of 300 | elapsed:  2.0min finished\n"
     ]
    },
    {
     "name": "stdout",
     "output_type": "stream",
     "text": [
      "(1417, 5) {'n_estimators': 31, 'min_samples_split': 2, 'min_samples_leaf': 1, 'max_features': 'sqrt', 'max_depth': None, 'bootstrap': False}\n",
      "Fitting 3 folds for each of 100 candidates, totalling 300 fits\n"
     ]
    },
    {
     "name": "stderr",
     "output_type": "stream",
     "text": [
      "[Parallel(n_jobs=-1)]: Using backend LokyBackend with 4 concurrent workers.\n",
      "[Parallel(n_jobs=-1)]: Done  33 tasks      | elapsed:   12.7s\n",
      "[Parallel(n_jobs=-1)]: Done 154 tasks      | elapsed:  1.0min\n",
      "[Parallel(n_jobs=-1)]: Done 300 out of 300 | elapsed:  2.0min finished\n"
     ]
    },
    {
     "name": "stdout",
     "output_type": "stream",
     "text": [
      "(1417, 9) {'n_estimators': 52, 'min_samples_split': 5, 'min_samples_leaf': 1, 'max_features': 'sqrt', 'max_depth': 60, 'bootstrap': False}\n",
      "Fitting 3 folds for each of 100 candidates, totalling 300 fits\n"
     ]
    },
    {
     "name": "stderr",
     "output_type": "stream",
     "text": [
      "[Parallel(n_jobs=-1)]: Using backend LokyBackend with 4 concurrent workers.\n",
      "[Parallel(n_jobs=-1)]: Done  41 tasks      | elapsed:   16.7s\n",
      "[Parallel(n_jobs=-1)]: Done 162 tasks      | elapsed:  1.2min\n",
      "[Parallel(n_jobs=-1)]: Done 300 out of 300 | elapsed:  2.1min finished\n"
     ]
    },
    {
     "name": "stdout",
     "output_type": "stream",
     "text": [
      "(1417, 18) {'n_estimators': 136, 'min_samples_split': 5, 'min_samples_leaf': 1, 'max_features': 'sqrt', 'max_depth': 80, 'bootstrap': False}\n"
     ]
    }
   ],
   "source": [
    "dfTest = loader()\n",
    "rfr_params = dict()\n",
    "\n",
    "def allowed_key(key):\n",
    "    if  1 in key or 5 in key or 9 in key or 18 in key:\n",
    "            return True\n",
    "    return False\n",
    "\n",
    "for key in dfTest.keys():\n",
    "    if allowed_key(key):\n",
    "        X_train, X_test, y_train, y_test = getValues(dfTest[key])\n",
    "        \n",
    "        best_params = get_best_parameters(X_train, y_train)\n",
    "        rfr_params[key] = best_params\n",
    "        print(key, best_params)"
   ]
  },
  {
   "cell_type": "code",
   "execution_count": 6,
   "metadata": {},
   "outputs": [],
   "source": [
    "rfr_params = dict()\n",
    "\n",
    "rfr_params[(1419, 1)] = {'n_estimators': 136, 'min_samples_split': 2, 'min_samples_leaf': 4, 'max_features': 'sqrt', 'max_depth': 80, 'bootstrap': False}\n",
    "rfr_params[(1419, 5)] = {'n_estimators': 31, 'min_samples_split': 2, 'min_samples_leaf': 1, 'max_features': 'sqrt', 'max_depth': None, 'bootstrap': False}\n",
    "rfr_params[(1419, 9)] = {'n_estimators': 31, 'min_samples_split': 2, 'min_samples_leaf': 1, 'max_features': 'sqrt', 'max_depth': None, 'bootstrap': False}\n",
    "rfr_params[(1419, 18)] = {'n_estimators': 31, 'min_samples_split': 2, 'min_samples_leaf': 1, 'max_features': 'sqrt', 'max_depth': None, 'bootstrap': False}\n",
    "rfr_params[(1433, 1)] = {'n_estimators': 52, 'min_samples_split': 10, 'min_samples_leaf': 2, 'max_features': 'sqrt', 'max_depth': 60, 'bootstrap': True}\n",
    "rfr_params[(1433, 5)] = {'n_estimators': 73, 'min_samples_split': 5, 'min_samples_leaf': 1, 'max_features': 'sqrt', 'max_depth': 100, 'bootstrap': False}\n",
    "rfr_params[(1433, 9)] = {'n_estimators': 157, 'min_samples_split': 5, 'min_samples_leaf': 1, 'max_features': 'sqrt', 'max_depth': 70, 'bootstrap': False}\n",
    "rfr_params[(1433, 18)] = {'n_estimators': 31, 'min_samples_split': 2, 'min_samples_leaf': 1, 'max_features': 'sqrt', 'max_depth': None, 'bootstrap': False}\n",
    "rfr_params[(1440, 1)] = {'n_estimators': 31, 'min_samples_split': 10, 'min_samples_leaf': 4, 'max_features': 'sqrt', 'max_depth': 90, 'bootstrap': True}\n",
    "rfr_params[(1440, 5)] = {'n_estimators': 31, 'min_samples_split': 2, 'min_samples_leaf': 1, 'max_features': 'sqrt', 'max_depth': None, 'bootstrap': False}\n",
    "rfr_params[(1440, 9)] = {'n_estimators': 31, 'min_samples_split': 2, 'min_samples_leaf': 1, 'max_features': 'sqrt', 'max_depth': None, 'bootstrap': False}\n",
    "rfr_params[(1440, 18)] = {'n_estimators': 31, 'min_samples_split': 2, 'min_samples_leaf': 1, 'max_features': 'sqrt', 'max_depth': None, 'bootstrap': False}\n",
    "rfr_params[(1417, 1)] = {'n_estimators': 178, 'min_samples_split': 2, 'min_samples_leaf': 4, 'max_features': 'sqrt', 'max_depth': 90, 'bootstrap': True}\n",
    "rfr_params[(1417, 5)] = {'n_estimators': 31, 'min_samples_split': 2, 'min_samples_leaf': 1, 'max_features': 'sqrt', 'max_depth': None, 'bootstrap': False}\n",
    "rfr_params[(1417, 9)] = {'n_estimators': 52, 'min_samples_split': 5, 'min_samples_leaf': 1, 'max_features': 'sqrt', 'max_depth': 60, 'bootstrap': False}\n",
    "rfr_params[(1417, 18)] = {'n_estimators': 136, 'min_samples_split': 5, 'min_samples_leaf': 1, 'max_features': 'sqrt', 'max_depth': 80, 'bootstrap': False}"
   ]
  },
  {
   "cell_type": "code",
   "execution_count": 7,
   "metadata": {},
   "outputs": [],
   "source": [
    "from matplotlib import pyplot\n",
    "import matplotlib.pyplot as plt\n",
    "\n",
    "def plotPredictions(key, true, predictions):\n",
    "    plt.figure(figsize=(16,7))\n",
    "    plt.subplot(121)\n",
    "    pyplot.scatter(true, predictions, color=\"red\", alpha=0.5, s=5)\n",
    "    pyplot.xlim(0,20)\n",
    "    pyplot.ylim(0,20)\n",
    "    pyplot.plot(range(60), color='black', alpha=0.2)\n",
    "    pyplot.grid()\n",
    "    pyplot.title(key, fontsize=16)\n",
    "    pyplot.xlabel('surf_temp_sqerror')\n",
    "    pyplot.ylabel('Estimated surf_temp_sqerror')"
   ]
  },
  {
   "cell_type": "code",
   "execution_count": 15,
   "metadata": {},
   "outputs": [],
   "source": [
    "def experiment(repeats, data, key, params):\n",
    "    X_train, X_test, y_train, y_test = getValues(data)\n",
    "    MSE_benchmark = 100\n",
    "    index_val = 20\n",
    "\n",
    "    error_scores = list()\n",
    "    results = pd.DataFrame()\n",
    "    \n",
    "    predictionsBest = list()\n",
    "    trueBest = list()\n",
    "    print(key)\n",
    "    for r in range(repeats):\n",
    "        forest_model = fit_forest(X_train, y_train, params)\n",
    "        \n",
    "        with open('models/rfr/model_{}_{}'.format(key, r), 'wb') as f:\n",
    "            pickle.dump(forest_model, f)\n",
    "\n",
    "        predictions = forecast_forest(forest_model, X_test)\n",
    "        true = y_test\n",
    "    \n",
    "        # report performance\n",
    "        mse = mean_squared_error(true, predictions)\n",
    "        print('%d) Test MSE: %.3f' % (r+1, mse))\n",
    "        error_scores.append(mse)\n",
    "        if (mse < MSE_benchmark):\n",
    "            MSE_benchmark = mse\n",
    "            predictionsBest = predictions\n",
    "            trueBest = true\n",
    "            index_val = r\n",
    "        # plotPredictions(key, true, predictions)\n",
    "    #for name, value in zip(INDEPENDENT_FEATURES, forest_model.feature_importances_):\n",
    "        #print(value*100)\n",
    "    #print(index_val, )\n",
    "    return trueBest, predictionsBest, error_scores"
   ]
  },
  {
   "cell_type": "code",
   "execution_count": 16,
   "metadata": {},
   "outputs": [
    {
     "name": "stdout",
     "output_type": "stream",
     "text": [
      "(1419, 1)\n",
      "1) Test MSE: 0.442\n",
      "2) Test MSE: 0.447\n",
      "3) Test MSE: 0.449\n",
      "4) Test MSE: 0.450\n",
      "5) Test MSE: 0.443\n",
      "6) Test MSE: 0.446\n",
      "7) Test MSE: 0.441\n",
      "8) Test MSE: 0.445\n",
      "9) Test MSE: 0.448\n",
      "10) Test MSE: 0.443\n",
      "(1419, 5)\n",
      "1) Test MSE: 9.604\n",
      "2) Test MSE: 9.235\n",
      "3) Test MSE: 10.084\n",
      "4) Test MSE: 9.507\n",
      "5) Test MSE: 9.212\n",
      "6) Test MSE: 9.546\n",
      "7) Test MSE: 9.945\n",
      "8) Test MSE: 9.827\n",
      "9) Test MSE: 9.627\n",
      "10) Test MSE: 9.729\n",
      "(1419, 9)\n",
      "1) Test MSE: 7.903\n",
      "2) Test MSE: 7.822\n",
      "3) Test MSE: 8.392\n",
      "4) Test MSE: 7.766\n",
      "5) Test MSE: 8.883\n",
      "6) Test MSE: 8.185\n",
      "7) Test MSE: 8.109\n",
      "8) Test MSE: 8.573\n",
      "9) Test MSE: 7.722\n",
      "10) Test MSE: 8.373\n",
      "(1419, 18)\n",
      "1) Test MSE: 8.477\n",
      "2) Test MSE: 8.537\n",
      "3) Test MSE: 9.207\n",
      "4) Test MSE: 9.611\n",
      "5) Test MSE: 8.122\n",
      "6) Test MSE: 8.561\n",
      "7) Test MSE: 8.302\n",
      "8) Test MSE: 7.785\n",
      "9) Test MSE: 8.106\n",
      "10) Test MSE: 8.979\n",
      "(1433, 1)\n",
      "1) Test MSE: 0.263\n",
      "2) Test MSE: 0.265\n",
      "3) Test MSE: 0.269\n",
      "4) Test MSE: 0.260\n",
      "5) Test MSE: 0.265\n",
      "6) Test MSE: 0.261\n",
      "7) Test MSE: 0.263\n",
      "8) Test MSE: 0.266\n",
      "9) Test MSE: 0.261\n",
      "10) Test MSE: 0.260\n",
      "(1433, 5)\n",
      "1) Test MSE: 3.100\n",
      "2) Test MSE: 3.240\n",
      "3) Test MSE: 3.165\n",
      "4) Test MSE: 3.122\n",
      "5) Test MSE: 3.140\n",
      "6) Test MSE: 3.175\n",
      "7) Test MSE: 3.237\n",
      "8) Test MSE: 3.165\n",
      "9) Test MSE: 3.272\n",
      "10) Test MSE: 3.114\n",
      "(1433, 9)\n",
      "1) Test MSE: 3.743\n",
      "2) Test MSE: 3.812\n",
      "3) Test MSE: 3.734\n",
      "4) Test MSE: 3.723\n",
      "5) Test MSE: 3.697\n",
      "6) Test MSE: 3.721\n",
      "7) Test MSE: 3.711\n",
      "8) Test MSE: 3.833\n",
      "9) Test MSE: 3.713\n",
      "10) Test MSE: 3.804\n",
      "(1433, 18)\n",
      "1) Test MSE: 5.885\n",
      "2) Test MSE: 6.261\n",
      "3) Test MSE: 6.486\n",
      "4) Test MSE: 6.566\n",
      "5) Test MSE: 6.315\n",
      "6) Test MSE: 6.552\n",
      "7) Test MSE: 6.601\n",
      "8) Test MSE: 6.607\n",
      "9) Test MSE: 6.588\n",
      "10) Test MSE: 6.021\n",
      "(1440, 1)\n",
      "1) Test MSE: 0.147\n",
      "2) Test MSE: 0.149\n",
      "3) Test MSE: 0.143\n",
      "4) Test MSE: 0.152\n",
      "5) Test MSE: 0.145\n",
      "6) Test MSE: 0.146\n",
      "7) Test MSE: 0.149\n",
      "8) Test MSE: 0.144\n",
      "9) Test MSE: 0.146\n",
      "10) Test MSE: 0.149\n",
      "(1440, 5)\n",
      "1) Test MSE: 1.329\n",
      "2) Test MSE: 1.290\n",
      "3) Test MSE: 1.221\n",
      "4) Test MSE: 1.127\n",
      "5) Test MSE: 1.357\n",
      "6) Test MSE: 1.182\n",
      "7) Test MSE: 1.263\n",
      "8) Test MSE: 1.151\n",
      "9) Test MSE: 1.170\n",
      "10) Test MSE: 1.244\n",
      "(1440, 9)\n",
      "1) Test MSE: 1.754\n",
      "2) Test MSE: 1.763\n",
      "3) Test MSE: 1.716\n",
      "4) Test MSE: 1.862\n",
      "5) Test MSE: 1.864\n",
      "6) Test MSE: 1.773\n",
      "7) Test MSE: 1.718\n",
      "8) Test MSE: 1.802\n",
      "9) Test MSE: 1.798\n",
      "10) Test MSE: 1.786\n",
      "(1440, 18)\n",
      "1) Test MSE: 2.616\n",
      "2) Test MSE: 2.765\n",
      "3) Test MSE: 2.993\n",
      "4) Test MSE: 2.630\n",
      "5) Test MSE: 2.444\n",
      "6) Test MSE: 2.524\n",
      "7) Test MSE: 2.667\n",
      "8) Test MSE: 2.854\n",
      "9) Test MSE: 2.579\n",
      "10) Test MSE: 2.608\n",
      "(1417, 1)\n",
      "1) Test MSE: 0.803\n",
      "2) Test MSE: 0.805\n",
      "3) Test MSE: 0.816\n",
      "4) Test MSE: 0.807\n",
      "5) Test MSE: 0.805\n",
      "6) Test MSE: 0.808\n",
      "7) Test MSE: 0.818\n",
      "8) Test MSE: 0.818\n",
      "9) Test MSE: 0.808\n",
      "10) Test MSE: 0.820\n",
      "(1417, 5)\n",
      "1) Test MSE: 5.012\n",
      "2) Test MSE: 5.330\n",
      "3) Test MSE: 4.866\n",
      "4) Test MSE: 5.232\n",
      "5) Test MSE: 5.387\n",
      "6) Test MSE: 5.457\n",
      "7) Test MSE: 4.725\n",
      "8) Test MSE: 5.106\n",
      "9) Test MSE: 5.504\n",
      "10) Test MSE: 4.522\n",
      "(1417, 9)\n",
      "1) Test MSE: 8.121\n",
      "2) Test MSE: 8.075\n",
      "3) Test MSE: 8.223\n",
      "4) Test MSE: 8.065\n",
      "5) Test MSE: 8.286\n",
      "6) Test MSE: 8.325\n",
      "7) Test MSE: 8.320\n",
      "8) Test MSE: 8.250\n",
      "9) Test MSE: 8.423\n",
      "10) Test MSE: 7.992\n",
      "(1417, 18)\n",
      "1) Test MSE: 6.896\n",
      "2) Test MSE: 7.031\n",
      "3) Test MSE: 7.244\n",
      "4) Test MSE: 6.955\n",
      "5) Test MSE: 7.356\n",
      "6) Test MSE: 7.219\n",
      "7) Test MSE: 7.441\n",
      "8) Test MSE: 6.765\n",
      "9) Test MSE: 7.149\n",
      "10) Test MSE: 7.298\n"
     ]
    }
   ],
   "source": [
    "%matplotlib inline\n",
    "\n",
    "df = loader()\n",
    "\n",
    "import warnings\n",
    "warnings.filterwarnings('ignore')\n",
    "\n",
    "repeats = 10\n",
    "features = 1\n",
    "results = dict()\n",
    "trueVals = []\n",
    "predictedVals = []\n",
    "\n",
    "\n",
    "def allowed_key(key):\n",
    "    if  1 in key or 5 in key or 9 in key or 18 in key:\n",
    "            return True\n",
    "    return False\n",
    "\n",
    "for key in df.keys():\n",
    "    if allowed_key(key):\n",
    "        true, predictions, error_scores = experiment(repeats, df[key], key, rfr_params[key])\n",
    "        results[key] = error_scores\n",
    "        trueVals.extend(true)\n",
    "        predictedVals.extend(predictions)\n",
    "    "
   ]
  },
  {
   "cell_type": "code",
   "execution_count": 29,
   "metadata": {},
   "outputs": [
    {
     "data": {
      "image/png": "[encoded data removed]",
      "text/plain": [
       "<Figure size 1152x504 with 1 Axes>"
      ]
     },
     "metadata": {
      "needs_background": "light"
     },
     "output_type": "display_data"
    }
   ],
   "source": [
    "plotPredictions('RFR', trueVals, predictedVals)"
   ]
  },
  {
   "cell_type": "code",
   "execution_count": 44,
   "metadata": {},
   "outputs": [
    {
     "data": {
      "text/plain": [
       "Text(0, 0.5, 'Estimated surf_temp_sqerror')"
      ]
     },
     "execution_count": 44,
     "metadata": {},
     "output_type": "execute_result"
    },
    {
     "data": {
      "image/png": "[encoded data removed]",
      "text/plain": [
       "<Figure size 432x288 with 1 Axes>"
      ]
     },
     "metadata": {
      "needs_background": "light"
     },
     "output_type": "display_data"
    }
   ],
   "source": [
    "import math\n",
    "\n",
    "diffValsSquared = (np.asarray(trueVals) - np.asarray(predictedVals)) ** 2\n",
    "diffVals = [math.sqrt(number) for number in diffValsSquared]\n",
    "\n",
    "plt.errorbar(trueVals, predictedVals, yerr=diffVals, fmt='o')\n",
    "axes = plt.axes()\n",
    "axes.set_ylim([-40, 160])\n",
    "plt.xlabel('surf_temp_sqerror')\n",
    "plt.ylabel('Estimated surf_temp_sqerror')\n"
   ]
  },
  {
   "cell_type": "code",
   "execution_count": 36,
   "metadata": {},
   "outputs": [],
   "source": [
    "import csv\n",
    "\n",
    "def saver(dictex):\n",
    "    for key, val in dictex.items():\n",
    "        val = pd.DataFrame(val)\n",
    "        val.to_csv(\"results/rfr/results_{}.csv\".format(str(key)))\n",
    "\n",
    "    with open(\"results/rfr/keys.txt\", \"w\") as f: #saving keys to file\n",
    "        f.write(str(list(dictex.keys())))\n",
    "        \n",
    "saver(results)"
   ]
  },
  {
   "cell_type": "code",
   "execution_count": 47,
   "metadata": {},
   "outputs": [
    {
     "data": {
      "image/png": "[encoded data removed]",
      "text/plain": [
       "<Figure size 432x288 with 1 Axes>"
      ]
     },
     "metadata": {
      "needs_background": "light"
     },
     "output_type": "display_data"
    }
   ],
   "source": [
    "def loader():\n",
    "    \"\"\"Reading data from keys\"\"\"\n",
    "    with open(\"results/rfr/keys.txt\", \"r\") as f:\n",
    "        keys = eval(f.read())\n",
    "\n",
    "    dictex = {}    \n",
    "    for key in keys:\n",
    "        dictex[key] = pd.read_csv(\"results/rfr/results_{}.csv\".format(str(key)))\n",
    "\n",
    "    return dictex\n",
    "\n",
    "results = loader()\n",
    "graph_data = dict()\n",
    "std_data = dict()\n",
    "keys = [1417, 1419, 1433, 1440]\n",
    "\n",
    "for key in keys:\n",
    "    d = []\n",
    "    st = []\n",
    "    for i in [1, 5, 9, 18]:\n",
    "        t = sum(results[(key, i)].values) / float(len(results[(key, i)]))\n",
    "        s = np.std(results[(key, i)])[1]\n",
    "        d.append(t[1])\n",
    "        st.append(s)\n",
    "    graph_data[key] = d\n",
    "    std_data[key] = st\n",
    "\n",
    "# Data for plotting\n",
    "import numpy as np\n",
    "import matplotlib.pyplot as plt\n",
    "\n",
    "fig, ax = plt.subplots()\n",
    "\n",
    "ind = np.arange(len(graph_data[1417]))  # the x locations for the groups\n",
    "width = 0.25  # the width of the bars\n",
    "\n",
    "means, std = np.around(graph_data[1417], decimals=3), np.around(std_data[1417], decimals=3)\n",
    "ax.bar(ind - width/2, means, width, yerr=std,\n",
    "            color='SkyBlue', label=1417, align='center')\n",
    "\n",
    "means, std = np.around(graph_data[1419], decimals=3), np.around(std_data[1419], decimals=3)\n",
    "ax.bar(ind, means, width, yerr=std,\n",
    "            color='Green', label=1419, align='center')\n",
    "\n",
    "means, std = np.around(graph_data[1433], decimals=3), np.around(std_data[1433], decimals=3)\n",
    "ax.bar(ind + width/2, means, width, yerr=std,\n",
    "            color='Red', label=1433, align='center')\n",
    "\n",
    "means, std = np.around(graph_data[1440], decimals=3), np.around(std_data[1440], decimals=3)\n",
    "ax.bar(ind + width/2 + width/2, means, width, yerr=std,\n",
    "            color='Orange', label=1440, align='center')\n",
    "\n",
    "# Add some text for labels, title and custom x-axis tick labels, etc.\n",
    "ax.set_ylabel('MSE')\n",
    "ax.set_xlabel('Forecast Length')\n",
    "ax.set_xticks(ind)\n",
    "ax.set_xticklabels((1, 5, 9, 18))\n",
    "ax.legend(loc=2)\n",
    "ax.set_ylim([0, 17])\n",
    "\n",
    "def autolabel(rects, xpos='center'):\n",
    "    \"\"\"\n",
    "    Attach a text label above each bar in *rects*, displaying its height.\n",
    "\n",
    "    *xpos* indicates which side to place the text w.r.t. the center of\n",
    "    the bar. It can be one of the following {'center', 'right', 'left'}.\n",
    "    \"\"\"\n",
    "\n",
    "    xpos = xpos.lower()  # normalize the case of the parameter\n",
    "    ha = {'center': 'center', 'right': 'left', 'left': 'right'}\n",
    "    offset = {'center': 0.5, 'right': 0.57, 'left': 0.43}  # x_txt = x + w*off\n",
    "\n",
    "    for rect in rects:\n",
    "        height = rect.get_height()\n",
    "        ax.text(rect.get_x() + rect.get_width()*offset[xpos], 1.01*height,\n",
    "                '{}'.format(height), ha=ha[xpos], va='bottom')\n",
    "\n",
    "\n",
    "#autolabel(rects1, \"left\")\n",
    "#autolabel(rects2, \"right\")\n",
    "\n",
    "plt.show()"
   ]
  },
  {
   "cell_type": "code",
   "execution_count": 48,
   "metadata": {},
   "outputs": [
    {
     "name": "stdout",
     "output_type": "stream",
     "text": [
      "{(1419, 1): {'n_estimators': 136, 'min_samples_split': 2, 'min_samples_leaf': 4, 'max_features': 'sqrt', 'max_depth': 80, 'bootstrap': False}, (1419, 5): {'n_estimators': 31, 'min_samples_split': 2, 'min_samples_leaf': 1, 'max_features': 'sqrt', 'max_depth': None, 'bootstrap': False}, (1419, 9): {'n_estimators': 31, 'min_samples_split': 2, 'min_samples_leaf': 1, 'max_features': 'sqrt', 'max_depth': None, 'bootstrap': False}, (1419, 18): {'n_estimators': 31, 'min_samples_split': 2, 'min_samples_leaf': 1, 'max_features': 'sqrt', 'max_depth': None, 'bootstrap': False}, (1433, 1): {'n_estimators': 52, 'min_samples_split': 10, 'min_samples_leaf': 2, 'max_features': 'sqrt', 'max_depth': 60, 'bootstrap': True}, (1433, 5): {'n_estimators': 73, 'min_samples_split': 5, 'min_samples_leaf': 1, 'max_features': 'sqrt', 'max_depth': 100, 'bootstrap': False}, (1433, 9): {'n_estimators': 157, 'min_samples_split': 5, 'min_samples_leaf': 1, 'max_features': 'sqrt', 'max_depth': 70, 'bootstrap': False}, (1433, 18): {'n_estimators': 31, 'min_samples_split': 2, 'min_samples_leaf': 1, 'max_features': 'sqrt', 'max_depth': None, 'bootstrap': False}, (1440, 1): {'n_estimators': 31, 'min_samples_split': 10, 'min_samples_leaf': 4, 'max_features': 'sqrt', 'max_depth': 90, 'bootstrap': True}, (1440, 5): {'n_estimators': 31, 'min_samples_split': 2, 'min_samples_leaf': 1, 'max_features': 'sqrt', 'max_depth': None, 'bootstrap': False}, (1440, 9): {'n_estimators': 31, 'min_samples_split': 2, 'min_samples_leaf': 1, 'max_features': 'sqrt', 'max_depth': None, 'bootstrap': False}, (1440, 18): {'n_estimators': 31, 'min_samples_split': 2, 'min_samples_leaf': 1, 'max_features': 'sqrt', 'max_depth': None, 'bootstrap': False}, (1417, 1): {'n_estimators': 178, 'min_samples_split': 2, 'min_samples_leaf': 4, 'max_features': 'sqrt', 'max_depth': 90, 'bootstrap': True}, (1417, 5): {'n_estimators': 31, 'min_samples_split': 2, 'min_samples_leaf': 1, 'max_features': 'sqrt', 'max_depth': None, 'bootstrap': False}, (1417, 9): {'n_estimators': 52, 'min_samples_split': 5, 'min_samples_leaf': 1, 'max_features': 'sqrt', 'max_depth': 60, 'bootstrap': False}, (1417, 18): {'n_estimators': 136, 'min_samples_split': 5, 'min_samples_leaf': 1, 'max_features': 'sqrt', 'max_depth': 80, 'bootstrap': False}}\n"
     ]
    }
   ],
   "source": [
    "print(rfr_params)"
   ]
  },
  {
   "cell_type": "code",
   "execution_count": 17,
   "metadata": {},
   "outputs": [],
   "source": [
    "def loader2():\n",
    "    \"\"\"Reading data from keys\"\"\"\n",
    "    with open(\"data2/keys.txt\", \"r\") as f:\n",
    "        keys = eval(f.read())\n",
    "\n",
    "    dictex = {}\n",
    "    for key in keys:\n",
    "        dictex[key] = pd.read_csv(\"data2/data_{}.csv\".format(str(key)))\n",
    "\n",
    "    return dictex"
   ]
  },
  {
   "cell_type": "code",
   "execution_count": 18,
   "metadata": {},
   "outputs": [],
   "source": [
    "def experiment2(repeats, data, key, params):\n",
    "    X_train, X_test, y_train, y_test = getValues(data)\n",
    "    MSE_benchmark = 100\n",
    "    index_val = 20\n",
    "\n",
    "    error_scores = list()\n",
    "    results = pd.DataFrame()\n",
    "    \n",
    "    predictionsBest = list()\n",
    "    trueBest = list()\n",
    "    print(key)\n",
    "    for r in range(repeats):\n",
    "        with open('models/rfr/model_{}_{}'.format(key, r), 'wb') as f:\n",
    "            forest_model = pickle.load(f)\n",
    "\n",
    "        predictions = forecast_forest(forest_model, X_test)\n",
    "        true = y_test\n",
    "    \n",
    "        # report performance\n",
    "        mse = mean_squared_error(true, predictions)\n",
    "        print('%d) Test MSE: %.3f' % (r+1, mse))\n",
    "        error_scores.append(mse)\n",
    "        if (mse < MSE_benchmark):\n",
    "            MSE_benchmark = mse\n",
    "            predictionsBest = predictions\n",
    "            trueBest = true\n",
    "            index_val = r\n",
    "        # plotPredictions(key, true, predictions)\n",
    "    #for name, value in zip(INDEPENDENT_FEATURES, forest_model.feature_importances_):\n",
    "        #print(value*100)\n",
    "    #print(index_val, )\n",
    "    return trueBest, predictionsBest, error_scores"
   ]
  },
  {
   "cell_type": "code",
   "execution_count": 19,
   "metadata": {},
   "outputs": [
    {
     "name": "stdout",
     "output_type": "stream",
     "text": [
      "(1419, 1)\n",
      "1) Test MSE: 2.447\n",
      "2) Test MSE: 2.531\n",
      "3) Test MSE: 2.462\n",
      "4) Test MSE: 2.495\n",
      "5) Test MSE: 2.473\n",
      "6) Test MSE: 2.451\n",
      "7) Test MSE: 2.528\n",
      "8) Test MSE: 2.506\n",
      "9) Test MSE: 2.523\n",
      "10) Test MSE: 2.471\n",
      "(1419, 5)\n",
      "1) Test MSE: 53.216\n",
      "2) Test MSE: 63.985\n",
      "3) Test MSE: 63.598\n",
      "4) Test MSE: 62.278\n",
      "5) Test MSE: 63.378\n",
      "6) Test MSE: 64.575\n",
      "7) Test MSE: 57.898\n",
      "8) Test MSE: 59.768\n",
      "9) Test MSE: 64.139\n",
      "10) Test MSE: 65.279\n",
      "(1419, 9)\n",
      "1) Test MSE: 117.732\n",
      "2) Test MSE: 111.900\n",
      "3) Test MSE: 135.039\n",
      "4) Test MSE: 113.451\n",
      "5) Test MSE: 121.328\n",
      "6) Test MSE: 130.642\n",
      "7) Test MSE: 115.742\n",
      "8) Test MSE: 132.122\n",
      "9) Test MSE: 136.228\n",
      "10) Test MSE: 111.987\n",
      "(1419, 18)\n",
      "1) Test MSE: 143.997\n",
      "2) Test MSE: 141.649\n",
      "3) Test MSE: 144.735\n",
      "4) Test MSE: 157.110\n",
      "5) Test MSE: 145.249\n",
      "6) Test MSE: 137.014\n",
      "7) Test MSE: 150.086\n",
      "8) Test MSE: 149.310\n",
      "9) Test MSE: 146.973\n",
      "10) Test MSE: 162.042\n",
      "(1433, 1)\n",
      "1) Test MSE: 2.218\n",
      "2) Test MSE: 2.216\n",
      "3) Test MSE: 2.059\n",
      "4) Test MSE: 2.101\n",
      "5) Test MSE: 2.048\n",
      "6) Test MSE: 2.303\n",
      "7) Test MSE: 2.101\n",
      "8) Test MSE: 2.153\n",
      "9) Test MSE: 2.097\n",
      "10) Test MSE: 2.070\n",
      "(1433, 5)\n",
      "1) Test MSE: 29.570\n",
      "2) Test MSE: 31.171\n",
      "3) Test MSE: 29.478\n",
      "4) Test MSE: 31.195\n",
      "5) Test MSE: 29.915\n",
      "6) Test MSE: 30.413\n",
      "7) Test MSE: 29.262\n",
      "8) Test MSE: 29.287\n",
      "9) Test MSE: 32.889\n",
      "10) Test MSE: 29.476\n",
      "(1433, 9)\n",
      "1) Test MSE: 44.128\n",
      "2) Test MSE: 43.281\n",
      "3) Test MSE: 44.263\n",
      "4) Test MSE: 42.114\n",
      "5) Test MSE: 46.345\n",
      "6) Test MSE: 45.665\n",
      "7) Test MSE: 47.236\n",
      "8) Test MSE: 46.241\n",
      "9) Test MSE: 41.530\n",
      "10) Test MSE: 49.268\n",
      "(1433, 18)\n",
      "1) Test MSE: 69.135\n",
      "2) Test MSE: 69.222\n",
      "3) Test MSE: 71.216\n",
      "4) Test MSE: 67.582\n",
      "5) Test MSE: 65.590\n",
      "6) Test MSE: 66.360\n",
      "7) Test MSE: 63.804\n",
      "8) Test MSE: 67.373\n",
      "9) Test MSE: 69.476\n",
      "10) Test MSE: 73.559\n",
      "(1440, 1)\n",
      "1) Test MSE: 0.876\n",
      "2) Test MSE: 0.888\n",
      "3) Test MSE: 0.888\n",
      "4) Test MSE: 0.921\n",
      "5) Test MSE: 0.907\n",
      "6) Test MSE: 0.923\n",
      "7) Test MSE: 0.918\n",
      "8) Test MSE: 0.944\n",
      "9) Test MSE: 0.897\n",
      "10) Test MSE: 0.930\n",
      "(1440, 5)\n",
      "1) Test MSE: 9.167\n",
      "2) Test MSE: 9.684\n",
      "3) Test MSE: 9.805\n",
      "4) Test MSE: 10.719\n",
      "5) Test MSE: 10.057\n",
      "6) Test MSE: 9.086\n",
      "7) Test MSE: 9.152\n",
      "8) Test MSE: 9.037\n",
      "9) Test MSE: 11.379\n",
      "10) Test MSE: 9.980\n",
      "(1440, 9)\n",
      "1) Test MSE: 21.911\n",
      "2) Test MSE: 17.272\n",
      "3) Test MSE: 17.454\n",
      "4) Test MSE: 16.514\n",
      "5) Test MSE: 17.871\n",
      "6) Test MSE: 19.068\n",
      "7) Test MSE: 20.985\n",
      "8) Test MSE: 19.136\n",
      "9) Test MSE: 17.425\n",
      "10) Test MSE: 19.685\n",
      "(1440, 18)\n",
      "1) Test MSE: 57.875\n",
      "2) Test MSE: 58.824\n",
      "3) Test MSE: 56.193\n",
      "4) Test MSE: 56.772\n",
      "5) Test MSE: 58.257\n",
      "6) Test MSE: 57.146\n",
      "7) Test MSE: 52.202\n",
      "8) Test MSE: 55.520\n",
      "9) Test MSE: 57.177\n",
      "10) Test MSE: 53.159\n",
      "(1417, 1)\n",
      "1) Test MSE: 5.908\n",
      "2) Test MSE: 5.971\n",
      "3) Test MSE: 5.913\n",
      "4) Test MSE: 5.899\n",
      "5) Test MSE: 5.865\n",
      "6) Test MSE: 5.973\n",
      "7) Test MSE: 6.032\n",
      "8) Test MSE: 5.949\n",
      "9) Test MSE: 5.849\n",
      "10) Test MSE: 5.869\n",
      "(1417, 5)\n",
      "1) Test MSE: 69.168\n",
      "2) Test MSE: 75.788\n",
      "3) Test MSE: 73.826\n",
      "4) Test MSE: 72.738\n",
      "5) Test MSE: 75.233\n",
      "6) Test MSE: 66.680\n",
      "7) Test MSE: 73.444\n",
      "8) Test MSE: 67.254\n",
      "9) Test MSE: 64.481\n",
      "10) Test MSE: 67.694\n",
      "(1417, 9)\n",
      "1) Test MSE: 98.787\n",
      "2) Test MSE: 96.169\n",
      "3) Test MSE: 85.920\n",
      "4) Test MSE: 92.305\n",
      "5) Test MSE: 103.980\n",
      "6) Test MSE: 89.956\n",
      "7) Test MSE: 93.997\n",
      "8) Test MSE: 89.823\n",
      "9) Test MSE: 92.269\n",
      "10) Test MSE: 85.641\n",
      "(1417, 18)\n",
      "1) Test MSE: 168.223\n",
      "2) Test MSE: 166.635\n",
      "3) Test MSE: 156.730\n",
      "4) Test MSE: 165.346\n",
      "5) Test MSE: 151.137\n",
      "6) Test MSE: 165.358\n",
      "7) Test MSE: 162.453\n",
      "8) Test MSE: 166.005\n",
      "9) Test MSE: 165.085\n",
      "10) Test MSE: 163.598\n"
     ]
    }
   ],
   "source": [
    "%matplotlib inline\n",
    "\n",
    "df = loader2()\n",
    "\n",
    "import warnings\n",
    "warnings.filterwarnings('ignore')\n",
    "\n",
    "repeats = 10\n",
    "features = 1\n",
    "results = dict()\n",
    "trueVals = []\n",
    "predictedVals = []\n",
    "\n",
    "\n",
    "def allowed_key(key):\n",
    "    if  1 in key or 5 in key or 9 in key or 18 in key:\n",
    "            return True\n",
    "    return False\n",
    "\n",
    "for key in df.keys():\n",
    "    if allowed_key(key):\n",
    "        true, predictions, error_scores = experiment(repeats, df[key], key, rfr_params[key])\n",
    "        results[key] = error_scores\n",
    "        trueVals.extend(true)\n",
    "        predictedVals.extend(predictions)\n",
    "    "
   ]
  },
  {
   "cell_type": "code",
   "execution_count": 20,
   "metadata": {},
   "outputs": [],
   "source": [
    "import csv\n",
    "\n",
    "def saver(dictex):\n",
    "    for key, val in dictex.items():\n",
    "        val = pd.DataFrame(val)\n",
    "        val.to_csv(\"results2/rfr/results_{}.csv\".format(str(key)))\n",
    "\n",
    "    with open(\"results2/rfr/keys.txt\", \"w\") as f: #saving keys to file\n",
    "        f.write(str(list(dictex.keys())))\n",
    "        \n",
    "saver(results)"
   ]
  },
  {
   "cell_type": "code",
   "execution_count": null,
   "metadata": {},
   "outputs": [],
   "source": []
  }
 ],
 "metadata": {
  "kernelspec": {
   "display_name": "Python 3",
   "language": "python",
   "name": "python3"
  },
  "language_info": {
   "codemirror_mode": {
    "name": "ipython",
    "version": 3
   },
   "file_extension": ".py",
   "mimetype": "text/x-python",
   "name": "python",
   "nbconvert_exporter": "python",
   "pygments_lexer": "ipython3",
   "version": "3.6.8"
  }
 },
 "nbformat": 4,
 "nbformat_minor": 2
}
