{
 "cells": [
  {
   "cell_type": "code",
   "execution_count": 2,
   "metadata": {},
   "outputs": [],
   "source": [
    "import pandas as pd\n",
    "import numpy as np\n",
    "\n",
    "def loader():\n",
    "    \"\"\"Reading data from keys\"\"\"\n",
    "    with open(\"data/keys.txt\", \"r\") as f:\n",
    "        keys = eval(f.read())\n",
    "\n",
    "    dictex = {}    \n",
    "    for key in keys:\n",
    "        dictex[key] = pd.read_csv(\"data/data_{}.csv\".format(str(key)))\n",
    "\n",
    "    return dictex"
   ]
  },
  {
   "cell_type": "code",
   "execution_count": 15,
   "metadata": {},
   "outputs": [],
   "source": [
    "df = loader()"
   ]
  },
  {
   "cell_type": "code",
   "execution_count": 10,
   "metadata": {},
   "outputs": [],
   "source": [
    "# from horizon_handler\n",
    "HORIZON_FEATURES = ['radiation', 'shade']\n",
    "\n",
    "# from SMHI\n",
    "FCST_FEATURES = ['AirTemp', 'DewPoint', 'RainPrecip', 'SnowPrecip', 'SnowPrecipAccumulated', 'WindSpeed',\n",
    "                 'AirPressure', 'OctalCloudCoverage', 'PrecipAmount']\n",
    "# from METRo\n",
    "EBM_FEATURES = ['air_temp', 'dew_point', 'surf_temp', 'water_amount', 'snow_amount', 'sub_temp']\n",
    "\n",
    "\n",
    "# setting the independent and dependent features\n",
    "INDEPENDENT_FEATURES = HORIZON_FEATURES + FCST_FEATURES + EBM_FEATURES"
   ]
  },
  {
   "cell_type": "code",
   "execution_count": 11,
   "metadata": {},
   "outputs": [],
   "source": [
    "from sklearn.model_selection import train_test_split\n",
    "from sklearn.metrics import mean_squared_error, mean_absolute_error\n",
    "from sklearn import preprocessing\n",
    "from sklearn.neighbors import KNeighborsRegressor\n",
    "from sklearn.model_selection import cross_val_score\n",
    "import sys\n",
    "import pickle\n",
    "\n",
    "def get_best_value_of_k(samples, targets, ran):\n",
    "    best_k_value = 0\n",
    "    best_score = 100\n",
    "    for i in range(1, ran):\n",
    "        model = KNeighborsRegressor(n_neighbors=i+1, \n",
    "                                algorithm='auto')\n",
    "        scores = cross_val_score(model, samples, targets, cv=2)\n",
    "        if (np.mean(scores)**2 < best_score):\n",
    "            best_score = np.mean(scores)**2\n",
    "            best_k_value = i+1\n",
    "    return best_k_value, best_score\n",
    "\n",
    "def incremental_fit(model, samples, targets):\n",
    "    model.fit(samples, targets)\n",
    "    return model\n",
    "\n",
    "def fit_knn(samples, targets, k):\n",
    "    model = KNeighborsRegressor(n_neighbors=k, \n",
    "                                algorithm='auto', \n",
    "                                weights='distance')\n",
    "    model.fit(samples, targets)\n",
    "    # print_feature_importance(samples, targets)\n",
    "    return model\n",
    "\n",
    "def print_feature_importance(samples, targets):\n",
    "    print('Feature  Accuracy')\n",
    "    for i in range(samples.shape[1]):\n",
    "        X = samples[:, i].reshape(-1, 1)\n",
    "        scores = cross_val_score(KNeighborsRegressor(), X, targets, scoring='neg_mean_squared_error')\n",
    "        print(scores.mean())\n",
    "\n",
    "def forecast_knn(model, samples):\n",
    "    predictions = model.predict(samples)\n",
    "    return predictions\n",
    "\n",
    "def normalize(train, test):\n",
    "    mean = train.mean(axis=0)    \n",
    "    train -= mean\n",
    "    std = train.std(axis=0)\n",
    "    train /= std\n",
    "\n",
    "    test -= mean\n",
    "    test /= std\n",
    "    return train, test\n",
    "\n",
    "def getValues(data, raw=False):\n",
    "    data.set_index(\"Date Time\", inplace=True)\n",
    "    included = np.array(data[INDEPENDENT_FEATURES + ['surf_temp_sqerror']].notnull().all(axis=1))\n",
    "\n",
    "    rsi = {\n",
    "        \"data\": data.loc[included, INDEPENDENT_FEATURES].values.astype(np.float), \n",
    "        \"target\": data.loc[included, 'surf_temp_sqerror'].values.astype(np.float)\n",
    "    }\n",
    "    \n",
    "    if (raw):\n",
    "        return train_test_split(rsi[\"data\"], rsi[\"target\"], test_size=0.0, random_state=0)\n",
    "    return train_test_split(rsi[\"data\"], rsi[\"target\"], test_size=0.3, random_state=0)\n"
   ]
  },
  {
   "cell_type": "code",
   "execution_count": 18,
   "metadata": {},
   "outputs": [
    {
     "name": "stdout",
     "output_type": "stream",
     "text": [
      "(1419, 1) 2 0.0011899662510712664\n",
      "(1419, 5) 5 0.03188163067994646\n",
      "(1419, 9) 10 0.13431944622691339\n",
      "(1419, 18) 10 0.13391878173297633\n",
      "(1433, 1) 3 0.011926150112634891\n",
      "(1433, 5) 10 0.02024830916683474\n",
      "(1433, 9) 10 0.03264657070837812\n",
      "(1433, 18) 10 0.0842349469810978\n",
      "(1440, 1) 10 0.009110952493917503\n",
      "(1440, 5) 10 0.018086262447473037\n",
      "(1440, 9) 10 0.06480199825664981\n",
      "(1440, 18) 10 0.1758363936707969\n",
      "(1417, 1) 10 0.00024804508545779147\n",
      "(1417, 5) 2 0.0433746722840234\n",
      "(1417, 9) 10 0.10817445093200047\n",
      "(1417, 18) 10 0.1022078268017507\n"
     ]
    }
   ],
   "source": [
    "dfTest = loader()\n",
    "k_values = dict()\n",
    "\n",
    "# (1419, 1) 5 0.026756253356757947\n",
    "# (1419, 5) 100 0.229122459482671\n",
    "# (1419, 9) 1 0.23085542684204077\n",
    "# (1419, 18) 100 0.2547731413505692\n",
    "\n",
    "def allowed_key(key):\n",
    "    if  1 in key or 5 in key or 9 in key or 18 in key:\n",
    "            return True\n",
    "    return False\n",
    "\n",
    "for key in dfTest.keys():\n",
    "    if allowed_key(key):\n",
    "        X_train, X_test, y_train, y_test = getValues(dfTest[key], raw=True)\n",
    "        X_train, X_test = normalize(X_train, X_test)\n",
    "        \n",
    "        best_k_value, best_score = get_best_value_of_k(X_train, y_train, 10)\n",
    "        k_values[key] = best_k_value\n",
    "        print(key, best_k_value, best_score)\n",
    "        "
   ]
  },
  {
   "cell_type": "code",
   "execution_count": 19,
   "metadata": {},
   "outputs": [],
   "source": [
    "from matplotlib import pyplot\n",
    "import matplotlib.pyplot as plt\n",
    "\n",
    "def plotPredictions(key, true, predictions):\n",
    "    plt.figure(figsize=(16,7))\n",
    "    plt.subplot(121)\n",
    "    pyplot.scatter(true, predictions, color=\"red\", alpha=0.5, s=10)\n",
    "    pyplot.xlim(0,20)\n",
    "    pyplot.ylim(0,20)\n",
    "    pyplot.plot(range(60), color='black', alpha=0.2)\n",
    "    pyplot.grid()\n",
    "    pyplot.title(key, fontsize=16)\n",
    "    pyplot.xlabel('surf_temp_sqerror')\n",
    "    pyplot.ylabel('Estimated surf_temp_sqerror')"
   ]
  },
  {
   "cell_type": "code",
   "execution_count": 22,
   "metadata": {},
   "outputs": [],
   "source": [
    "def experiment(k_value, data, key):\n",
    "    X_train, X_test, y_train, y_test = getValues(data)\n",
    "    X_train, X_test = normalize(X_train, X_test)\n",
    "\n",
    "    error_scores = list()\n",
    "    print(key)\n",
    "    knn_model = fit_knn(X_train, y_train, k_value)\n",
    "    \n",
    "    with open('models/knn/model_{}'.format(key), 'wb') as f:\n",
    "        pickle.dump(knn_model, f)\n",
    "\n",
    "    predictions = forecast_knn(knn_model, X_test)\n",
    "    true = y_test\n",
    "\n",
    "    # report performance\n",
    "    mse = mean_squared_error(true, predictions)\n",
    "    print('Test MSE: %.3f' % (mse))\n",
    "    error_scores.append(mse)\n",
    "    #plotPredictions(key, true, predictions)\n",
    "    \n",
    "    return true, predictions, error_scores, knn_model"
   ]
  },
  {
   "cell_type": "code",
   "execution_count": 48,
   "metadata": {},
   "outputs": [
    {
     "name": "stdout",
     "output_type": "stream",
     "text": [
      "(1419, 1)\n",
      "Test MSE: 0.488\n",
      "[0.4882450902856195]\n",
      "(1419, 5)\n",
      "Test MSE: 11.655\n",
      "[11.654756282717189]\n",
      "(1419, 9)\n",
      "Test MSE: 10.347\n",
      "[10.347323222819679]\n",
      "(1419, 18)\n",
      "Test MSE: 11.525\n",
      "[11.524850275381814]\n",
      "(1433, 1)\n",
      "Test MSE: 0.283\n",
      "[0.28340667792678037]\n",
      "(1433, 5)\n",
      "Test MSE: 3.836\n",
      "[3.8357504532133793]\n",
      "(1433, 9)\n",
      "Test MSE: 5.712\n",
      "[5.711691480642361]\n",
      "(1433, 18)\n",
      "Test MSE: 8.826\n",
      "[8.826208432471903]\n",
      "(1440, 1)\n",
      "Test MSE: 0.142\n",
      "[0.14157726462352307]\n",
      "(1440, 5)\n",
      "Test MSE: 1.622\n",
      "[1.6215757321335242]\n",
      "(1440, 9)\n",
      "Test MSE: 2.530\n",
      "[2.5296177692875665]\n",
      "(1440, 18)\n",
      "Test MSE: 4.103\n",
      "[4.102942614610574]\n",
      "(1417, 1)\n",
      "Test MSE: 0.795\n",
      "[0.7950698993650779]\n",
      "(1417, 5)\n",
      "Test MSE: 7.377\n",
      "[7.376987201625352]\n",
      "(1417, 9)\n",
      "Test MSE: 10.151\n",
      "[10.151057373526394]\n",
      "(1417, 18)\n",
      "Test MSE: 9.641\n",
      "[9.640552156611335]\n"
     ]
    }
   ],
   "source": [
    "%matplotlib inline\n",
    "\n",
    "import warnings\n",
    "warnings.filterwarnings('ignore')\n",
    "\n",
    "df = loader()\n",
    "\n",
    "trueVals = []\n",
    "predictedVals = []\n",
    "results = dict()\n",
    "models = dict()\n",
    "\n",
    "def allowed_key(key):\n",
    "    if  1 in key or 5 in key or 9 in key or 18 in key:\n",
    "            return True\n",
    "    return False\n",
    "\n",
    "for key in df.keys():\n",
    "    if allowed_key(key):\n",
    "        true, predictions, error_scores, knn_model = experiment(k_values[key], df[key], key)\n",
    "        results[key] = error_scores\n",
    "        models[key] = knn_model\n",
    "        print(error_scores)\n",
    "        trueVals.extend(true)\n",
    "        predictedVals.extend(predictions)\n",
    "    "
   ]
  },
  {
   "cell_type": "code",
   "execution_count": 181,
   "metadata": {},
   "outputs": [
    {
     "data": {
      "text/plain": [
       "Text(0, 0.5, 'Estimated surf_temp_sqerror')"
      ]
     },
     "execution_count": 181,
     "metadata": {},
     "output_type": "execute_result"
    },
    {
     "data": {
      "image/png": "[encoded data removed]",
      "text/plain": [
       "<Figure size 432x288 with 1 Axes>"
      ]
     },
     "metadata": {
      "needs_background": "light"
     },
     "output_type": "display_data"
    }
   ],
   "source": [
    "import math\n",
    "\n",
    "diffValsSquared = (np.asarray(trueVals) - np.asarray(predictedVals)) ** 2\n",
    "diffVals = [math.sqrt(number) for number in diffValsSquared]\n",
    "\n",
    "plt.errorbar(trueVals, predictedVals, yerr=diffVals, fmt='o')\n",
    "axes = plt.axes()\n",
    "axes.set_ylim([-40, 160])\n",
    "plt.xlabel('surf_temp_sqerror')\n",
    "plt.ylabel('Estimated surf_temp_sqerror')"
   ]
  },
  {
   "cell_type": "code",
   "execution_count": 96,
   "metadata": {},
   "outputs": [
    {
     "name": "stdout",
     "output_type": "stream",
     "text": [
      "{(1419, 1): [0.43668793308675224], (1419, 5): [12.627817314188205], (1419, 9): [11.621108556722518], (1419, 18): [16.759118210841013], (1433, 1): [0.2611513261941296], (1433, 5): [3.814992877827168], (1433, 9): [5.823544845944079], (1433, 18): [12.256952131781057], (1440, 1): [0.12945179381424254], (1440, 5): [1.5490743570624002], (1440, 9): [2.8515331832600626], (1440, 18): [6.822739891029665], (1417, 1): [0.8138464561579128], (1417, 5): [8.228326804254461], (1417, 9): [12.508291774546853], (1417, 18): [12.639987928299144]}\n"
     ]
    }
   ],
   "source": [
    "print(results)"
   ]
  },
  {
   "cell_type": "code",
   "execution_count": 168,
   "metadata": {},
   "outputs": [],
   "source": [
    "import csv\n",
    "\n",
    "def saver(dictex):\n",
    "    for key, val in dictex.items():\n",
    "        val = pd.DataFrame(val)\n",
    "        val.to_csv(\"results/knn/results_{}.csv\".format(str(key)))\n",
    "\n",
    "    with open(\"results/knn/keys.txt\", \"w\") as f: #saving keys to file\n",
    "        f.write(str(list(dictex.keys())))\n",
    "        \n",
    "saver(results)"
   ]
  },
  {
   "cell_type": "code",
   "execution_count": 183,
   "metadata": {},
   "outputs": [
    {
     "data": {
      "image/png": "[encoded data removed]",
      "text/plain": [
       "<Figure size 432x288 with 1 Axes>"
      ]
     },
     "metadata": {
      "needs_background": "light"
     },
     "output_type": "display_data"
    }
   ],
   "source": [
    "def result_loader():\n",
    "    \"\"\"Reading data from keys\"\"\"\n",
    "    with open(\"results/knn/keys.txt\", \"r\") as f:\n",
    "        keys = eval(f.read())\n",
    "\n",
    "    dictex = {}    \n",
    "    for key in keys:\n",
    "        dictex[key] = pd.read_csv(\"results/knn/results_{}.csv\".format(str(key)))\n",
    "\n",
    "    return dictex\n",
    "\n",
    "results = result_loader()\n",
    "graph_data = dict()\n",
    "std_data = dict()\n",
    "keys = [1417, 1419, 1433, 1440]\n",
    "\n",
    "for key in keys:\n",
    "    d = []\n",
    "    st = []\n",
    "    for i in [1, 5, 9, 18]:\n",
    "        t = sum(results[(key, i)].values) / float(len(results[(key, i)]))\n",
    "        s = np.std(results[(key, i)])[1]\n",
    "        d.append(t[1])\n",
    "        st.append(s)\n",
    "    graph_data[key] = d\n",
    "    std_data[key] = st\n",
    "\n",
    "# Data for plotting\n",
    "import numpy as np\n",
    "import matplotlib.pyplot as plt\n",
    "\n",
    "fig, ax = plt.subplots()\n",
    "\n",
    "ind = np.arange(len(graph_data[1417]))  # the x locations for the groups\n",
    "width = 0.25  # the width of the bars\n",
    "all_means = []\n",
    "\n",
    "means, std = np.around(graph_data[1417], decimals=3), np.around(std_data[1417], decimals=3)\n",
    "ax.bar(ind - width/2, means, width, yerr=std,\n",
    "            color='SkyBlue', label=1417, align='center')\n",
    "all_means.append(means)\n",
    "\n",
    "means, std = np.around(graph_data[1419], decimals=3), np.around(std_data[1419], decimals=3)\n",
    "ax.bar(ind, means, width, yerr=std,\n",
    "            color='Green', label=1419, align='center')\n",
    "all_means.append(means)\n",
    "\n",
    "\n",
    "means, std = np.around(graph_data[1433], decimals=3), np.around(std_data[1433], decimals=3)\n",
    "ax.bar(ind + width/2, means, width, yerr=std,\n",
    "            color='Red', label=1433, align='center')\n",
    "all_means.append(means)\n",
    "\n",
    "\n",
    "means, std = np.around(graph_data[1440], decimals=3), np.around(std_data[1440], decimals=3)\n",
    "ax.bar(ind + width/2 + width/2, means, width, yerr=std,\n",
    "            color='Orange', label=1440, align='center')\n",
    "all_means.append(means)\n",
    "\n",
    "\n",
    "# Add some text for labels, title and custom x-axis tick labels, etc.\n",
    "ax.set_ylabel('MSE')\n",
    "ax.set_xlabel('Forecast Length')\n",
    "ax.set_xticks(ind)\n",
    "ax.set_xticklabels((1, 5, 9, 18))\n",
    "ax.set_ylim([0, 17])\n",
    "ax.legend(loc=2)\n",
    "\n",
    "\n",
    "def autolabel(rects, xpos='center'):\n",
    "    \"\"\"\n",
    "    Attach a text label above each bar in *rects*, displaying its height.\n",
    "\n",
    "    *xpos* indicates which side to place the text w.r.t. the center of\n",
    "    the bar. It can be one of the following {'center', 'right', 'left'}.\n",
    "    \"\"\"\n",
    "\n",
    "    xpos = xpos.lower()  # normalize the case of the parameter\n",
    "    ha = {'center': 'center', 'right': 'left', 'left': 'right'}\n",
    "    offset = {'center': 0.5, 'right': 0.57, 'left': 0.43}  # x_txt = x + w*off\n",
    "\n",
    "    for rect in rects:\n",
    "        height = rect.get_height()\n",
    "        ax.text(rect.get_x() + rect.get_width()*offset[xpos], 1.01*height,\n",
    "                '{}'.format(height), ha=ha[xpos], va='bottom')\n",
    "\n",
    "\n",
    "#autolabel(rects1, \"left\")\n",
    "#autolabel(rects2, \"right\")\n",
    "\n",
    "plt.show()"
   ]
  },
  {
   "cell_type": "code",
   "execution_count": 59,
   "metadata": {},
   "outputs": [],
   "source": [
    "import pandas as pd\n",
    "import numpy as np\n",
    "\n",
    "def loader2():\n",
    "    \"\"\"Reading data from keys\"\"\"\n",
    "    with open(\"data2/keys.txt\", \"r\") as f:\n",
    "        keys = eval(f.read())\n",
    "\n",
    "    dictex = {}    \n",
    "    for key in keys:\n",
    "        dictex[key] = pd.read_csv(\"data2/data_{}.csv\".format(str(key)))\n",
    "\n",
    "    return dictex\n",
    "\n",
    "def normalize(train, test):\n",
    "    mean = train.mean(axis=0)    \n",
    "    train -= mean\n",
    "    std = train.std(axis=0)\n",
    "    for i in range(len(std)):\n",
    "        if (std[i] == 0.0):\n",
    "            std[i] = 1.0\n",
    "    train /= std\n",
    "\n",
    "    test -= mean\n",
    "    test /= std\n",
    "    return train, test"
   ]
  },
  {
   "cell_type": "code",
   "execution_count": 62,
   "metadata": {},
   "outputs": [],
   "source": [
    "def experiment2(model, data, key):\n",
    "    X_train, X_test, y_train, y_test = getValues(data)\n",
    "    X_train, X_test = normalize(X_train, X_test)\n",
    "\n",
    "    error_scores = list()\n",
    "    print(key)\n",
    "    with open('models/knn/model_{}'.format(key), 'rb') as f:\n",
    "        knn_model = pickle.load(f)\n",
    "\n",
    "    predictions = forecast_knn(knn_model, X_test)\n",
    "    true = y_test\n",
    "\n",
    "    # report performance\n",
    "    mse = mean_squared_error(true, predictions)\n",
    "    print('Test MSE: %.3f' % (mse))\n",
    "    error_scores.append(mse)\n",
    "    #plotPredictions(key, true, predictions)\n",
    "    \n",
    "    return true, predictions, error_scores, knn_model"
   ]
  },
  {
   "cell_type": "code",
   "execution_count": 63,
   "metadata": {},
   "outputs": [
    {
     "name": "stdout",
     "output_type": "stream",
     "text": [
      "(1419, 1)\n",
      "Test MSE: 3.970\n",
      "[3.970079161261567]\n",
      "(1419, 5)\n",
      "Test MSE: 186.714\n",
      "[186.71402217839758]\n",
      "(1419, 9)\n",
      "Test MSE: 455.193\n",
      "[455.19258484595133]\n",
      "(1419, 18)\n",
      "Test MSE: 492.723\n",
      "[492.72344046599085]\n",
      "(1433, 1)\n",
      "Test MSE: 2.407\n",
      "[2.4074741915297753]\n",
      "(1433, 5)\n",
      "Test MSE: 70.226\n",
      "[70.22594997744554]\n",
      "(1433, 9)\n",
      "Test MSE: 123.528\n",
      "[123.5275980809583]\n",
      "(1433, 18)\n",
      "Test MSE: 123.401\n",
      "[123.40109197247608]\n",
      "(1440, 1)\n",
      "Test MSE: 1.133\n",
      "[1.1327820291962607]\n",
      "(1440, 5)\n",
      "Test MSE: 20.512\n",
      "[20.512264346851563]\n",
      "(1440, 9)\n",
      "Test MSE: 60.833\n",
      "[60.83289983323716]\n",
      "(1440, 18)\n",
      "Test MSE: 92.849\n",
      "[92.84884760128007]\n",
      "(1417, 1)\n",
      "Test MSE: 6.922\n",
      "[6.922254116346827]\n",
      "(1417, 5)\n",
      "Test MSE: 134.878\n",
      "[134.87784455172536]\n",
      "(1417, 9)\n",
      "Test MSE: 302.704\n",
      "[302.703711556033]\n",
      "(1417, 18)\n",
      "Test MSE: 392.315\n",
      "[392.3145575559429]\n"
     ]
    }
   ],
   "source": [
    "%matplotlib inline\n",
    "\n",
    "df = loader2()\n",
    "\n",
    "import warnings\n",
    "warnings.filterwarnings('ignore')\n",
    "\n",
    "trueVals = []\n",
    "predictedVals = []\n",
    "results = dict()\n",
    "\n",
    "def allowed_key(key):\n",
    "    if  1 in key or 5 in key or 9 in key or 18 in key:\n",
    "            return True\n",
    "    return False\n",
    "\n",
    "for key in df.keys():\n",
    "    if allowed_key(key):\n",
    "        true, predictions, error_scores, knn_model = experiment2(models[key], df[key], key)\n",
    "        results[key] = error_scores\n",
    "        print(error_scores)\n",
    "        trueVals.extend(true)\n",
    "        predictedVals.extend(predictions)"
   ]
  },
  {
   "cell_type": "code",
   "execution_count": 64,
   "metadata": {},
   "outputs": [],
   "source": [
    "import csv\n",
    "\n",
    "def saver(dictex):\n",
    "    for key, val in dictex.items():\n",
    "        val = pd.DataFrame(val)\n",
    "        val.to_csv(\"results2/knn/results_{}.csv\".format(str(key)))\n",
    "\n",
    "    with open(\"results2/knn/keys.txt\", \"w\") as f: #saving keys to file\n",
    "        f.write(str(list(dictex.keys())))\n",
    "        \n",
    "saver(results)"
   ]
  },
  {
   "cell_type": "code",
   "execution_count": 18,
   "metadata": {},
   "outputs": [],
   "source": [
    "results = dict()\n",
    "df = loader()\n",
    "\n",
    "def allowed_key(key):\n",
    "    if  1 in key or 5 in key or 9 in key or 18 in key:\n",
    "            return True\n",
    "    return False\n",
    "\n",
    "for key in df.keys():\n",
    "    if allowed_key(key):\n",
    "        is_below_one = 0\n",
    "        is_below_five = 0\n",
    "        is_below_ten = 0\n",
    "        is_below_twenty = 0\n",
    "        is_above_twenty = 0\n",
    "        for val in df[key]['surf_temp_sqerror'][-int(len(df[key]['surf_temp_sqerror']) * .3):]:\n",
    "            if (val <= 1):\n",
    "                is_below_one += 1\n",
    "            elif (1 < val <= 5):\n",
    "                is_below_five += 1\n",
    "            elif (5 < val <= 10):\n",
    "                is_below_ten += 1\n",
    "            elif (10 < val <= 20):\n",
    "                is_below_twenty += 1\n",
    "            else:\n",
    "                is_above_twenty += 1\n",
    "        results[key] = (is_below_one, is_below_five, is_below_ten, is_below_twenty, is_above_twenty)"
   ]
  },
  {
   "cell_type": "code",
   "execution_count": 5,
   "metadata": {},
   "outputs": [
    {
     "data": {
      "text/plain": [
       "1.472554949844182"
      ]
     },
     "execution_count": 5,
     "metadata": {},
     "output_type": "execute_result"
    }
   ],
   "source": [
    "means = []\n",
    "\n",
    "for key in df.keys():\n",
    "    if allowed_key(key):\n",
    "        means.append(np.mean(df[key]['surf_temp_sqerror']))\n",
    "        \n",
    "np.mean(means)"
   ]
  },
  {
   "cell_type": "code",
   "execution_count": 172,
   "metadata": {},
   "outputs": [
    {
     "data": {
      "text/plain": [
       "5.564562499999999"
      ]
     },
     "execution_count": 172,
     "metadata": {},
     "output_type": "execute_result"
    }
   ],
   "source": [
    "np.mean(all_means)"
   ]
  },
  {
   "cell_type": "code",
   "execution_count": 19,
   "metadata": {},
   "outputs": [
    {
     "data": {
      "image/png": "[encoded data removed]",
      "text/plain": [
       "<Figure size 432x288 with 1 Axes>"
      ]
     },
     "metadata": {
      "needs_background": "light"
     },
     "output_type": "display_data"
    },
    {
     "data": {
      "image/png": "[encoded data removed]",
      "text/plain": [
       "<Figure size 432x288 with 1 Axes>"
      ]
     },
     "metadata": {
      "needs_background": "light"
     },
     "output_type": "display_data"
    },
    {
     "data": {
      "image/png": "[encoded data removed]",
      "text/plain": [
       "<Figure size 432x288 with 1 Axes>"
      ]
     },
     "metadata": {
      "needs_background": "light"
     },
     "output_type": "display_data"
    },
    {
     "data": {
      "image/png": "[encoded data removed]",
      "text/plain": [
       "<Figure size 432x288 with 1 Axes>"
      ]
     },
     "metadata": {
      "needs_background": "light"
     },
     "output_type": "display_data"
    }
   ],
   "source": [
    "import matplotlib.pyplot as plt\n",
    "from matplotlib.dates import date2num\n",
    "import datetime\n",
    "\n",
    "for key in [1417, 1419, 1433, 1440]:\n",
    "    x = ['≤1', '≤5', '≤10', '≤20', '>20']\n",
    "    ind = np.arange(len(x))\n",
    "\n",
    "    y = results[(key, 1)]\n",
    "    z = results[(key, 5)]\n",
    "    k = results[(key, 9)]\n",
    "    d = results[(key, 18)]\n",
    "\n",
    "    ax = plt.subplot(111)\n",
    "\n",
    "    ax.set_ylabel('Values per Forecast Length')\n",
    "    ax.set_title('Station {}'.format(str(key)))\n",
    "    ax.set_xticks(ind)\n",
    "    ax.set_xticklabels(('≤1', '≤5', '≤10', '≤20', '>20'))\n",
    "\n",
    "    bar1 = ax.bar(ind-0.2, y, width=0.2, color='b', align='center', label='FL 1')\n",
    "    bar2 = ax.bar(ind, z, width=0.2, color='g', align='center', label='FL 5')\n",
    "    bar3 = ax.bar(ind+0.2, k, width=0.2, color='r', align='center', label='FL 9')\n",
    "    bar4 = ax.bar(ind+0.4, d, width=0.2, color='orange', align='center', label='FL 18')\n",
    "    ax.legend(loc=1)\n",
    "    \n",
    "    # Add counts above the two bar graphs\n",
    "    for rect in bar1 + bar2 + bar3 + bar4:\n",
    "        height = rect.get_height()\n",
    "        plt.text(rect.get_x() + rect.get_width()/2.0, height, '%d' % int(height), ha='center', va='bottom', fontsize=8)\n",
    "\n",
    "    plt.savefig('sse_values_30_percent_{}.png'.format(str(key)))\n",
    "    plt.show()"
   ]
  },
  {
   "cell_type": "code",
   "execution_count": null,
   "metadata": {},
   "outputs": [],
   "source": []
  }
 ],
 "metadata": {
  "kernelspec": {
   "display_name": "Python 3",
   "language": "python",
   "name": "python3"
  },
  "language_info": {
   "codemirror_mode": {
    "name": "ipython",
    "version": 3
   },
   "file_extension": ".py",
   "mimetype": "text/x-python",
   "name": "python",
   "nbconvert_exporter": "python",
   "pygments_lexer": "ipython3",
   "version": "3.6.8"
  }
 },
 "nbformat": 4,
 "nbformat_minor": 2
}
