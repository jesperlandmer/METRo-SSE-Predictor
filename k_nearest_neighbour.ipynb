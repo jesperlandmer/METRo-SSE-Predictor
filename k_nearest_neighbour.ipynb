{
 "cells": [
  {
   "cell_type": "markdown",
   "metadata": {},
   "source": [
    "### Data Import\n",
    "\n",
    "Import the data from the data directory containing METRo forecasts and monitor data from 29th of October 2018 till the 14th of March 2019."
   ]
  },
  {
   "cell_type": "code",
   "execution_count": 1,
   "metadata": {},
   "outputs": [],
   "source": [
    "import pandas as pd\n",
    "import numpy as np\n",
    "\n",
    "def loader():\n",
    "    \"\"\"Reading data from keys\"\"\"\n",
    "    with open(\"data/keys.txt\", \"r\") as f:\n",
    "        keys = eval(f.read())\n",
    "\n",
    "    dictex = {}    \n",
    "    for key in keys:\n",
    "        dictex[key] = pd.read_csv(\"data/data_{}.csv\".format(str(key)))\n",
    "\n",
    "    return dictex\n",
    "\n",
    "df = loader()"
   ]
  },
  {
   "cell_type": "markdown",
   "metadata": {},
   "source": [
    "### Define the feature space\n",
    "\n",
    "Here the features are defined that are used for the METRo forecasts"
   ]
  },
  {
   "cell_type": "code",
   "execution_count": 18,
   "metadata": {},
   "outputs": [],
   "source": [
    "# from horizon_handler\n",
    "HORIZON_FEATURES = ['radiation', 'shade']\n",
    "\n",
    "# from SMHI\n",
    "FCST_FEATURES = ['AirTemp', 'DewPoint', 'RainPrecip', 'SnowPrecip', 'SnowPrecipAccumulated', 'WindSpeed',\n",
    "                 'AirPressure', 'OctalCloudCoverage', 'PrecipAmount']\n",
    "# from METRo\n",
    "EBM_FEATURES = ['air_temp', 'dew_point', 'surf_temp', 'water_amount', 'snow_amount', 'sub_temp']\n",
    "\n",
    "\n",
    "# setting the independent and dependent features\n",
    "INDEPENDENT_FEATURES = HORIZON_FEATURES + FCST_FEATURES + EBM_FEATURES"
   ]
  },
  {
   "cell_type": "markdown",
   "metadata": {},
   "source": [
    "### Hyperparameter Extraction\n",
    "\n",
    "Here the functions are defined for extracting the hyperparameters of the neural networks using a randomized search."
   ]
  },
  {
   "cell_type": "code",
   "execution_count": null,
   "metadata": {},
   "outputs": [],
   "source": [
    "from sklearn.neighbors import KNeighborsRegressor\n",
    "from sklearn.model_selection import cross_val_score\n",
    "\n",
    "def get_best_value_of_k(samples, targets, ran):\n",
    "    best_k_value = 0\n",
    "    best_score = 100\n",
    "    for i in range(1, ran):\n",
    "        model = KNeighborsRegressor(n_neighbors=i+1, \n",
    "                                algorithm='auto')\n",
    "        scores = cross_val_score(model, samples, targets, cv=2)\n",
    "        if (np.mean(scores)**2 < best_score):\n",
    "            best_score = np.mean(scores)**2\n",
    "            best_k_value = i+1\n",
    "    return best_k_value, best_score"
   ]
  },
  {
   "cell_type": "markdown",
   "metadata": {},
   "source": [
    "### Retrieving the hyperparameters\n",
    "\n",
    "Here the best hyperparameters are extracted for each model. This takes a while to test, but the from running this experiment yielded:"
   ]
  },
  {
   "cell_type": "code",
   "execution_count": 143,
   "metadata": {},
   "outputs": [
    {
     "name": "stdout",
     "output_type": "stream",
     "text": [
      "(1419, 1) 2 0.0011899662510712664\n",
      "(1419, 5) 5 0.03188163067994646\n",
      "(1419, 9) 10 0.13431944622691339\n",
      "(1419, 18) 10 0.13391878173297633\n",
      "(1433, 1) 3 0.011926150112634891\n",
      "(1433, 5) 10 0.02024830916683474\n",
      "(1433, 9) 10 0.03264657070837812\n",
      "(1433, 18) 10 0.0842349469810978\n",
      "(1440, 1) 10 0.009110952493917503\n",
      "(1440, 5) 10 0.018086262447473037\n",
      "(1440, 9) 10 0.06480199825664981\n",
      "(1440, 18) 10 0.1758363936707969\n",
      "(1417, 1) 10 0.00024804508545779147\n",
      "(1417, 5) 2 0.0433746722840234\n",
      "(1417, 9) 10 0.10817445093200047\n",
      "(1417, 18) 10 0.1022078268017507\n"
     ]
    }
   ],
   "source": [
    "dfTest = loader()\n",
    "k_values = dict()\n",
    "\n",
    "def allowed_key(key):\n",
    "    if  1 in key or 5 in key or 9 in key or 18 in key:\n",
    "            return True\n",
    "    return False\n",
    "\n",
    "for key in dfTest.keys():\n",
    "    if allowed_key(key):\n",
    "        X_train, X_test, y_train, y_test = getValues(dfTest[key], raw=True)\n",
    "        X_train, X_test = normalize(X_train, X_test)\n",
    "        \n",
    "        best_k_value, best_score = get_best_value_of_k(X_train, y_train, 10)\n",
    "        k_values[key] = best_k_value\n",
    "        print(key, best_k_value, best_score)\n",
    "        "
   ]
  },
  {
   "cell_type": "markdown",
   "metadata": {},
   "source": [
    "### Model Functions\n",
    "\n",
    "These functions are used for normalizing the dataset as well as building and fitting the models"
   ]
  },
  {
   "cell_type": "code",
   "execution_count": 19,
   "metadata": {},
   "outputs": [],
   "source": [
    "from sklearn.model_selection import train_test_split\n",
    "from sklearn.metrics import mean_squared_error, mean_absolute_error\n",
    "from sklearn import preprocessing\n",
    "import sys\n",
    "import pickle\n",
    "\n",
    "def fit_knn(samples, targets, k):\n",
    "    model = KNeighborsRegressor(n_neighbors=k, \n",
    "                                algorithm='auto', \n",
    "                                weights='distance')\n",
    "    model.fit(samples, targets)\n",
    "    # print_feature_importance(samples, targets)\n",
    "    return model\n",
    "\n",
    "def forecast_knn(model, samples):\n",
    "    predictions = model.predict(samples)\n",
    "    return predictions\n",
    "\n",
    "def normalize(train, test):\n",
    "    mean = train.mean(axis=0)    \n",
    "    train -= mean\n",
    "    std = train.std(axis=0)\n",
    "    train /= std\n",
    "\n",
    "    test -= mean\n",
    "    test /= std\n",
    "    return train, test\n",
    "\n",
    "def getValues(data, raw=False):\n",
    "    data.set_index(\"Date Time\", inplace=True)\n",
    "    included = np.array(data[INDEPENDENT_FEATURES + ['surf_temp_sqerror']].notnull().all(axis=1))\n",
    "\n",
    "    rsi = {\n",
    "        \"data\": data.loc[included, INDEPENDENT_FEATURES].values.astype(np.float), \n",
    "        \"target\": data.loc[included, 'surf_temp_sqerror'].values.astype(np.float)\n",
    "    }\n",
    "    \n",
    "    if (raw):\n",
    "        return train_test_split(rsi[\"data\"], rsi[\"target\"], test_size=0.0, random_state=0)\n",
    "    return train_test_split(rsi[\"data\"], rsi[\"target\"], test_size=0.3, random_state=0)\n"
   ]
  },
  {
   "cell_type": "markdown",
   "metadata": {},
   "source": [
    "### Extracting and printing the feature importances in negative MSE"
   ]
  },
  {
   "cell_type": "code",
   "execution_count": null,
   "metadata": {},
   "outputs": [],
   "source": [
    "def print_feature_importance(samples, targets):\n",
    "    print('Feature  Accuracy')\n",
    "    for i in range(samples.shape[1]):\n",
    "        X = samples[:, i].reshape(-1, 1)\n",
    "        scores = cross_val_score(KNeighborsRegressor(), X, targets, scoring='neg_mean_squared_error')\n",
    "        print(scores.mean())"
   ]
  },
  {
   "cell_type": "markdown",
   "metadata": {},
   "source": [
    "### Plot predictions\n",
    "Used for plotting a graph depicting the true and estimated target value for approximations about model accuracy and overfitting/underfitting analysis."
   ]
  },
  {
   "cell_type": "code",
   "execution_count": 144,
   "metadata": {},
   "outputs": [],
   "source": [
    "from matplotlib import pyplot\n",
    "import matplotlib.pyplot as plt\n",
    "\n",
    "def plotPredictions(key, true, predictions):\n",
    "    plt.figure(figsize=(16,7))\n",
    "    plt.subplot(121)\n",
    "    pyplot.scatter(true, predictions, color=\"red\", alpha=0.5, s=10)\n",
    "    pyplot.xlim(0,20)\n",
    "    pyplot.ylim(0,20)\n",
    "    pyplot.plot(range(60), color='black', alpha=0.2)\n",
    "    pyplot.grid()\n",
    "    pyplot.title(key, fontsize=16)\n",
    "    pyplot.xlabel('surf_temp_sqerror')\n",
    "    pyplot.ylabel('Estimated surf_temp_sqerror')"
   ]
  },
  {
   "cell_type": "markdown",
   "metadata": {},
   "source": [
    "### Experiment 1\n",
    "The first experiment tested on the dataset collected from the winter season"
   ]
  },
  {
   "cell_type": "code",
   "execution_count": 145,
   "metadata": {},
   "outputs": [],
   "source": [
    "def experiment(k_value, data, key):\n",
    "    X_train, X_test, y_train, y_test = getValues(data)\n",
    "    X_train, X_test = normalize(X_train, X_test)\n",
    "\n",
    "    error_scores = list()\n",
    "    print(key)\n",
    "    knn_model = fit_knn(X_train, y_train, k_value)\n",
    "    \n",
    "    with open('models/knn/model_{}'.format(key), 'wb') as f:\n",
    "        pickle.dump(knn_model, f)\n",
    "\n",
    "    predictions = forecast_knn(knn_model, X_test)\n",
    "    true = y_test\n",
    "\n",
    "    # report performance\n",
    "    mse = mean_squared_error(true, predictions)\n",
    "    print('Test MSE: %.3f' % (mse))\n",
    "    error_scores.append(mse)\n",
    "    plotPredictions(key, true, predictions)\n",
    "    \n",
    "    return true, predictions, error_scores, knn_model"
   ]
  },
  {
   "cell_type": "markdown",
   "metadata": {},
   "source": [
    "### Running the experiment\n",
    "The experiment is run for the selected forecast lengths (1, 5, 9 and 18) which is extracted from the dataset. After the iterations,"
   ]
  },
  {
   "cell_type": "code",
   "execution_count": 146,
   "metadata": {},
   "outputs": [
    {
     "name": "stdout",
     "output_type": "stream",
     "text": [
      "(1419, 1)\n",
      "Test MSE: 0.488\n",
      "(1419, 5)\n",
      "Test MSE: 11.655\n",
      "(1419, 9)\n",
      "Test MSE: 10.347\n",
      "(1419, 18)\n",
      "Test MSE: 11.525\n",
      "(1433, 1)\n",
      "Test MSE: 0.283\n",
      "(1433, 5)\n",
      "Test MSE: 3.836\n",
      "(1433, 9)\n",
      "Test MSE: 5.712\n",
      "(1433, 18)\n",
      "Test MSE: 8.826\n",
      "(1440, 1)\n",
      "Test MSE: 0.142\n",
      "(1440, 5)\n",
      "Test MSE: 1.622\n",
      "(1440, 9)\n",
      "Test MSE: 2.530\n",
      "(1440, 18)\n",
      "Test MSE: 4.103\n",
      "(1417, 1)\n",
      "Test MSE: 0.795\n",
      "(1417, 5)\n",
      "Test MSE: 7.377\n",
      "(1417, 9)\n",
      "Test MSE: 10.151\n",
      "(1417, 18)\n",
      "Test MSE: 9.641\n"
     ]
    }
   ],
   "source": [
    "%matplotlib inline\n",
    "\n",
    "import warnings\n",
    "warnings.filterwarnings('ignore')\n",
    "\n",
    "df = loader()\n",
    "\n",
    "trueVals = []\n",
    "predictedVals = []\n",
    "results = dict()\n",
    "models = dict()\n",
    "\n",
    "def allowed_key(key):\n",
    "    if  1 in key or 5 in key or 9 in key or 18 in key:\n",
    "            return True\n",
    "    return False\n",
    "\n",
    "for key in df.keys():\n",
    "    if allowed_key(key):\n",
    "        true, predictions, error_scores, knn_model = experiment(k_values[key], df[key], key)\n",
    "        results[key] = error_scores\n",
    "        models[key] = knn_model\n",
    "        trueVals.extend(true)\n",
    "        predictedVals.extend(predictions)\n",
    "    "
   ]
  },
  {
   "cell_type": "markdown",
   "metadata": {},
   "source": [
    "### Saving and loading the results\n",
    "The results from the first experiment is saved to the results directory. Another method is defined to retrieve the stored results."
   ]
  },
  {
   "cell_type": "code",
   "execution_count": 168,
   "metadata": {},
   "outputs": [],
   "source": [
    "import csv\n",
    "\n",
    "def saver(dictex):\n",
    "    for key, val in dictex.items():\n",
    "        val = pd.DataFrame(val)\n",
    "        val.to_csv(\"results/knn/results_{}.csv\".format(str(key)))\n",
    "\n",
    "    with open(\"results/knn/keys.txt\", \"w\") as f: #saving keys to file\n",
    "        f.write(str(list(dictex.keys())))\n",
    "        \n",
    "saver(results)"
   ]
  },
  {
   "cell_type": "code",
   "execution_count": null,
   "metadata": {},
   "outputs": [],
   "source": [
    "def result_loader():\n",
    "    \"\"\"Reading data from keys\"\"\"\n",
    "    with open(\"results/knn/keys.txt\", \"r\") as f:\n",
    "        keys = eval(f.read())\n",
    "\n",
    "    dictex = {}    \n",
    "    for key in keys:\n",
    "        dictex[key] = pd.read_csv(\"results/knn/results_{}.csv\".format(str(key)))\n",
    "\n",
    "    return dictex"
   ]
  },
  {
   "cell_type": "markdown",
   "metadata": {},
   "source": [
    "### Depicting the Error Span of the Predictions\n",
    "To better showcase the model estimations, an errorbar plot are created to depict the error span of the predictions contra the true value."
   ]
  },
  {
   "cell_type": "code",
   "execution_count": 196,
   "metadata": {},
   "outputs": [
    {
     "data": {
      "image/png": "[encoded data removed]",
      "text/plain": [
       "<Figure size 1500x300 with 1 Axes>"
      ]
     },
     "metadata": {},
     "output_type": "display_data"
    }
   ],
   "source": [
    "#!/usr/bin/env python\n",
    "import numpy as np\n",
    "import matplotlib.pyplot as plt\n",
    "#plt.rcdefaults()\n",
    "\n",
    "# First illustrate basic pyplot interface, using defaults where possible.\n",
    "plt.errorbar(trueVals, predictedVals, yerr=diffVals, fmt='.', elinewidth=1, color='#B38E89')\n",
    "plt.grid(True)\n",
    "plt.tight_layout()\n",
    "plt.rcParams[\"figure.figsize\"] = (15,3)\n",
    "\n",
    "plt.savefig('error_selection_knn.png')\n",
    "plt.show()"
   ]
  },
  {
   "cell_type": "markdown",
   "metadata": {},
   "source": [
    "### MSE result depiction\n",
    "The following graphs depicts a boxplot for the results of the dense neural network models"
   ]
  },
  {
   "cell_type": "code",
   "execution_count": 230,
   "metadata": {},
   "outputs": [
    {
     "data": {
      "image/png": "[encoded data removed]",
      "text/plain": [
       "<Figure size 640x480 with 1 Axes>"
      ]
     },
     "metadata": {},
     "output_type": "display_data"
    }
   ],
   "source": [
    "%matplotlib inline\n",
    "\n",
    "import matplotlib.pyplot as plt\n",
    "import numpy as np\n",
    "\n",
    "plt.rcdefaults()\n",
    "\n",
    "def result_loader():\n",
    "    \"\"\"Reading data from keys\"\"\"\n",
    "    with open(\"results/knn/keys.txt\", \"r\") as f:\n",
    "        keys = eval(f.read())\n",
    "\n",
    "    dictex = {}    \n",
    "    for key in keys:\n",
    "        dictex[key] = pd.read_csv(\"results/knn/results_{}.csv\".format(str(key)))\n",
    "\n",
    "    return dictex\n",
    "\n",
    "results = result_loader()\n",
    "\n",
    "all_data = dict()\n",
    "# Random test data\n",
    "for key in [1417, 1419, 1433, 1440]:\n",
    "    for fl in [1, 5, 9, 18]:\n",
    "        if fl not in all_data.keys():\n",
    "            all_data[fl] = []\n",
    "        all_data[fl].append(results[(key, fl)].values[0][1])\n",
    "    labels = ['FL 1', 'FL 5', 'FL 9', 'FL 18']\n",
    "\n",
    "all_data = list(all_data.values())\n",
    "fig, axes = plt.subplots()\n",
    "\n",
    "# rectangular box plot\n",
    "bplot1 = axes.boxplot(all_data, 0, '',\n",
    "                         vert=True,  # vertical box alignment\n",
    "                         patch_artist=True,  # fill with color\n",
    "                         labels=labels)  # will be used to label x-ticks\n",
    "\n",
    "# fill with colors\n",
    "colors = ['pink', 'lightblue', 'lightgreen']\n",
    "for patch, color in zip(bplot1['boxes'], colors):\n",
    "    patch.set_facecolor(color)\n",
    "\n",
    "# adding horizontal grid lines\n",
    "axes.yaxis.grid(True)\n",
    "axes.set_ylim([0, 16])\n",
    "\n",
    "plt.savefig('mse_box_plot_knn.png'.format(str(key)))\n",
    "plt.show()"
   ]
  },
  {
   "cell_type": "markdown",
   "metadata": {},
   "source": [
    "### Loading the second dataset\n",
    "Import the data from the data directory containing METRo forecasts and monitor data from 14th of March 2018 till the 5th of May 2019."
   ]
  },
  {
   "cell_type": "code",
   "execution_count": null,
   "metadata": {},
   "outputs": [],
   "source": [
    "def loader2():\n",
    "    \"\"\"Reading data from keys\"\"\"\n",
    "    with open(\"data2/keys.txt\", \"r\") as f:\n",
    "        keys = eval(f.read())\n",
    "\n",
    "    dictex = {}    \n",
    "    for key in keys:\n",
    "        dictex[key] = pd.read_csv(\"data2/data_{}.csv\".format(str(key)))\n",
    "\n",
    "    return dictex"
   ]
  },
  {
   "cell_type": "markdown",
   "metadata": {},
   "source": [
    "### Experiment 2\n",
    "The second experiment involves training the models on newer data collected from the spring season, that is, the models are reused and continously trained.\n",
    "\n",
    "Below is the methods used for processing the dataset, which needed a different normalizing setting because some standard deviation outcomes were zero, which makes the scaled value zero for that feature (https://stackoverflow.com/a/54623752/7296909)."
   ]
  },
  {
   "cell_type": "code",
   "execution_count": 59,
   "metadata": {},
   "outputs": [],
   "source": [
    "import pandas as pd\n",
    "import numpy as np\n",
    "\n",
    "def normalize(train, test):\n",
    "    mean = train.mean(axis=0)    \n",
    "    train -= mean\n",
    "    std = train.std(axis=0)\n",
    "    for i in range(len(std)):\n",
    "        if (std[i] == 0.0):\n",
    "            std[i] = 1.0\n",
    "    train /= std\n",
    "\n",
    "    test -= mean\n",
    "    test /= std\n",
    "    return train, test"
   ]
  },
  {
   "cell_type": "markdown",
   "metadata": {},
   "source": [
    "### Experiment Method\n",
    "Implementation for the second experiment loading saved models and testing them with the new dataset."
   ]
  },
  {
   "cell_type": "code",
   "execution_count": 127,
   "metadata": {},
   "outputs": [],
   "source": [
    "def experiment2(model, data, key):\n",
    "    X_train, X_test, y_train, y_test = getValues(data)\n",
    "    X_train, X_test = normalize(X_train, X_test)\n",
    "\n",
    "    error_scores = list()\n",
    "    print(key)\n",
    "    with open('models/knn/model_{}'.format(key), 'rb') as f:\n",
    "        knn_model = pickle.load(f)\n",
    "\n",
    "    predictions = forecast_knn(knn_model, X_test)\n",
    "    true = y_test\n",
    "\n",
    "    # report performance\n",
    "    mse = mean_squared_error(true, predictions)\n",
    "    print('Test MSE: %.3f' % (mse))\n",
    "    error_scores.append(mse)\n",
    "    plotPredictions(key, true, predictions)\n",
    "    \n",
    "    return true, predictions, error_scores"
   ]
  },
  {
   "cell_type": "markdown",
   "metadata": {},
   "source": [
    "### Running the experiment\n",
    "The experiment is run for the selected forecast lengths (1, 5, 9 and 18) which is extracted from the dataset. After the iterations,"
   ]
  },
  {
   "cell_type": "code",
   "execution_count": 128,
   "metadata": {},
   "outputs": [],
   "source": [
    "%matplotlib inline\n",
    "\n",
    "df = loader()\n",
    "\n",
    "import warnings\n",
    "warnings.filterwarnings('ignore')\n",
    "\n",
    "trueVals = []\n",
    "predictedVals = []\n",
    "results = dict()\n",
    "\n",
    "def allowed_key(key):\n",
    "    if  1 in key or 5 in key or 9 in key or 18 in key:\n",
    "            return True\n",
    "    return False\n",
    "\n",
    "for key in df.keys():\n",
    "    if allowed_key(key):\n",
    "        true, predictions, error_scores = experiment2(models[key], df[key], key)\n",
    "        results[key] = error_scores\n",
    "        trueVals.extend(true)\n",
    "        predictedVals.extend(predictions)"
   ]
  },
  {
   "cell_type": "markdown",
   "metadata": {},
   "source": [
    "### Saving the results from the second experiment\n",
    "The results from the second experiment is saved to the results2 directory."
   ]
  },
  {
   "cell_type": "code",
   "execution_count": 64,
   "metadata": {},
   "outputs": [],
   "source": [
    "import csv\n",
    "\n",
    "def saver(dictex):\n",
    "    for key, val in dictex.items():\n",
    "        val = pd.DataFrame(val)\n",
    "        val.to_csv(\"results2/knn/results_{}.csv\".format(str(key)))\n",
    "\n",
    "    with open(\"results2/knn/keys.txt\", \"w\") as f: #saving keys to file\n",
    "        f.write(str(list(dictex.keys())))\n",
    "        \n",
    "saver(results)"
   ]
  }
 ],
 "metadata": {
  "kernelspec": {
   "display_name": "Python 3",
   "language": "python",
   "name": "python3"
  },
  "language_info": {
   "codemirror_mode": {
    "name": "ipython",
    "version": 3
   },
   "file_extension": ".py",
   "mimetype": "text/x-python",
   "name": "python",
   "nbconvert_exporter": "python",
   "pygments_lexer": "ipython3",
   "version": "3.6.8"
  }
 },
 "nbformat": 4,
 "nbformat_minor": 2
}
