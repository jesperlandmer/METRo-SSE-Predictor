{
 "cells": [
  {
   "cell_type": "markdown",
   "metadata": {},
   "source": [
    "### Data Import\n",
    "\n",
    "Import the data from the data directory containing METRo forecasts and monitor data from 29th of October 2018 till the 14th of March 2019."
   ]
  },
  {
   "cell_type": "code",
   "execution_count": null,
   "metadata": {},
   "outputs": [],
   "source": [
    "import pandas as pd\n",
    "import numpy as np\n",
    "\n",
    "def loader():\n",
    "    \"\"\"Reading data from keys\"\"\"\n",
    "    with open(\"data/keys.txt\", \"r\") as f:\n",
    "        keys = eval(f.read())\n",
    "\n",
    "    dictex = {}    \n",
    "    for key in keys:\n",
    "        dictex[key] = pd.read_csv(\"data/data_{}.csv\".format(str(key)))\n",
    "\n",
    "    return dictex\n",
    "\n",
    "df = loader()"
   ]
  },
  {
   "cell_type": "markdown",
   "metadata": {},
   "source": [
    "### Define the feature space\n",
    "\n",
    "Here the features are defined that are used for the METRo forecasts"
   ]
  },
  {
   "cell_type": "code",
   "execution_count": null,
   "metadata": {},
   "outputs": [],
   "source": [
    "# from horizon_handler\n",
    "HORIZON_FEATURES = ['radiation', 'shade']\n",
    "\n",
    "# from SMHI\n",
    "FCST_FEATURES = ['AirTemp', 'DewPoint', 'RainPrecip', 'SnowPrecip', 'SnowPrecipAccumulated', 'WindSpeed',\n",
    "                 'AirPressure', 'OctalCloudCoverage', 'PrecipAmount']\n",
    "# from METRo\n",
    "EBM_FEATURES = ['air_temp', 'dew_point', 'surf_temp', 'water_amount', 'snow_amount', 'sub_temp']\n",
    "\n",
    "\n",
    "# setting the independent and dependent features\n",
    "INDEPENDENT_FEATURES = HORIZON_FEATURES + FCST_FEATURES + EBM_FEATURES"
   ]
  },
  {
   "cell_type": "markdown",
   "metadata": {},
   "source": [
    "### Hyperparameter Extraction\n",
    "\n",
    "Here the functions are defined for extracting the hyperparameters of the neural networks using a randomized search."
   ]
  },
  {
   "cell_type": "code",
   "execution_count": null,
   "metadata": {},
   "outputs": [],
   "source": [
    "from keras.models import Sequential\n",
    "from keras.layers import Dense\n",
    "from keras.wrappers.scikit_learn import KerasRegressor\n",
    "from sklearn.model_selection import RandomizedSearchCV\n",
    "\n",
    "def create_model(neurons=1):\n",
    "    # create model\n",
    "    model = Sequential()\n",
    "    model.add(Dense(neurons, activation='relu', input_dim=17))\n",
    "    model.add(Dense(neurons, activation='relu'))\n",
    "    model.add(Dense(1))\n",
    "    model.compile(optimizer='rmsprop', loss='mse', metrics=['mae'])\n",
    "    \n",
    "    return model\n",
    "    \n",
    "def get_best_parameters(samples, targets):\n",
    "    model = KerasRegressor(build_fn=create_model, epochs=20, batch_size=50, verbose=0) \n",
    "\n",
    "    # Define the range\n",
    "    neurons = [int(x) for x in np.linspace(start = 10, stop = 300, num = 10)]\n",
    "    batch_size = [20, 40, 50, 60, 80, 100]\n",
    "    epochs = [10, 20, 40, 50]\n",
    "    param_grid = dict(neurons=neurons, batch_size=batch_size, epochs=epochs)\n",
    "    \n",
    "    dnn_random = RandomizedSearchCV(estimator = model, param_distributions = param_grid, cv = 3, verbose=2, n_iter = 100)\n",
    "    dnn_random.fit(samples, targets)\n",
    "    \n",
    "    return dnn_random.best_params_"
   ]
  },
  {
   "cell_type": "markdown",
   "metadata": {},
   "source": [
    "### Retrieving the hyperparameters\n",
    "Here the best hyperparameters are extracted for each model. This takes a while to test, but the from running this experiment yielded:\n",
    "\n",
    "```\n",
    "neuron_params = dict()\n",
    "\n",
    "neuron_params[(1419, 1)] = {'neurons': 74, 'epochs': 100, 'batch_size': 10}\n",
    "neuron_params[(1419, 5)] = {'neurons': 235, 'epochs': 100, 'batch_size': 20}\n",
    "neuron_params[(1419, 9)] = {'neurons': 267, 'epochs': 40, 'batch_size': 20}\n",
    "neuron_params[(1419, 18)] = {'neurons': 138, 'epochs': 40, 'batch_size': 10}\n",
    "neuron_params[(1433, 1)] = {'neurons': 138, 'epochs': 100, 'batch_size': 10}\n",
    "neuron_params[(1433, 5)] = {'neurons': 267, 'epochs': 50, 'batch_size': 40}\n",
    "neuron_params[(1433, 9)] = {'neurons': 267, 'epochs': 40, 'batch_size': 40}\n",
    "neuron_params[(1433, 18)] = {'neurons': 235, 'epochs': 50, 'batch_size': 40}\n",
    "neuron_params[(1440, 1)] = {'neurons': 300, 'epochs': 40, 'batch_size': 20}\n",
    "neuron_params[(1440, 5)] = {'neurons': 203, 'epochs': 40, 'batch_size': 20}\n",
    "neuron_params[(1440, 9)] = {'neurons': 267, 'epochs': 50, 'batch_size': 20}\n",
    "neuron_params[(1440, 18)] = {'neurons': 300, 'epochs': 50, 'batch_size': 20}\n",
    "neuron_params[(1417, 1)] = {'neurons': 267, 'epochs': 40, 'batch_size': 50}\n",
    "neuron_params[(1417, 5)] = {'neurons': 235, 'epochs': 50, 'batch_size': 20}\n",
    "neuron_params[(1417, 9)] = {'neurons': 300, 'epochs': 40, 'batch_size': 20}\n",
    "neuron_params[(1417, 18)] = {'neurons': 171, 'epochs': 50, 'batch_size': 20}\n",
    "```"
   ]
  },
  {
   "cell_type": "code",
   "execution_count": null,
   "metadata": {},
   "outputs": [
    {
     "name": "stdout",
     "output_type": "stream",
     "text": [
      "Fitting 3 folds for each of 20 candidates, totalling 60 fits\n",
      "[CV] neurons=235, epochs=50, batch_size=20 ...........................\n"
     ]
    },
    {
     "name": "stderr",
     "output_type": "stream",
     "text": [
      "[Parallel(n_jobs=1)]: Using backend SequentialBackend with 1 concurrent workers.\n"
     ]
    },
    {
     "name": "stdout",
     "output_type": "stream",
     "text": [
      "[CV] ............ neurons=235, epochs=50, batch_size=20, total=   6.4s\n",
      "[CV] neurons=235, epochs=50, batch_size=20 ...........................\n"
     ]
    },
    {
     "name": "stderr",
     "output_type": "stream",
     "text": [
      "[Parallel(n_jobs=1)]: Done   1 out of   1 | elapsed:    6.5s remaining:    0.0s\n"
     ]
    },
    {
     "name": "stdout",
     "output_type": "stream",
     "text": [
      "[CV] ............ neurons=235, epochs=50, batch_size=20, total=   7.3s\n",
      "[CV] neurons=235, epochs=50, batch_size=20 ...........................\n",
      "[CV] ............ neurons=235, epochs=50, batch_size=20, total=   5.9s\n",
      "[CV] neurons=10, epochs=50, batch_size=40 ............................\n",
      "[CV] ............. neurons=10, epochs=50, batch_size=40, total=   3.7s\n",
      "[CV] neurons=10, epochs=50, batch_size=40 ............................\n",
      "[CV] ............. neurons=10, epochs=50, batch_size=40, total=   3.3s\n",
      "[CV] neurons=10, epochs=50, batch_size=40 ............................\n",
      "[CV] ............. neurons=10, epochs=50, batch_size=40, total=   2.6s\n",
      "[CV] neurons=203, epochs=20, batch_size=50 ...........................\n",
      "[CV] ............ neurons=203, epochs=20, batch_size=50, total=   1.7s\n",
      "[CV] neurons=203, epochs=20, batch_size=50 ...........................\n",
      "[CV] ............ neurons=203, epochs=20, batch_size=50, total=   1.6s\n",
      "[CV] neurons=203, epochs=20, batch_size=50 ...........................\n",
      "[CV] ............ neurons=203, epochs=20, batch_size=50, total=   1.7s\n",
      "[CV] neurons=235, epochs=10, batch_size=80 ...........................\n",
      "[CV] ............ neurons=235, epochs=10, batch_size=80, total=   1.3s\n",
      "[CV] neurons=235, epochs=10, batch_size=80 ...........................\n",
      "[CV] ............ neurons=235, epochs=10, batch_size=80, total=   1.2s\n",
      "[CV] neurons=235, epochs=10, batch_size=80 ...........................\n",
      "[CV] ............ neurons=235, epochs=10, batch_size=80, total=   1.6s\n",
      "[CV] neurons=42, epochs=20, batch_size=40 ............................\n",
      "[CV] ............. neurons=42, epochs=20, batch_size=40, total=   1.6s\n",
      "[CV] neurons=42, epochs=20, batch_size=40 ............................\n",
      "[CV] ............. neurons=42, epochs=20, batch_size=40, total=   1.7s\n",
      "[CV] neurons=42, epochs=20, batch_size=40 ............................\n",
      "[CV] ............. neurons=42, epochs=20, batch_size=40, total=   1.9s\n",
      "[CV] neurons=138, epochs=10, batch_size=20 ...........................\n",
      "[CV] ............ neurons=138, epochs=10, batch_size=20, total=   1.9s\n",
      "[CV] neurons=138, epochs=10, batch_size=20 ...........................\n",
      "[CV] ............ neurons=138, epochs=10, batch_size=20, total=   1.9s\n",
      "[CV] neurons=138, epochs=10, batch_size=20 ...........................\n",
      "[CV] ............ neurons=138, epochs=10, batch_size=20, total=   2.2s\n",
      "[CV] neurons=203, epochs=20, batch_size=60 ...........................\n",
      "[CV] ............ neurons=203, epochs=20, batch_size=60, total=   2.5s\n",
      "[CV] neurons=203, epochs=20, batch_size=60 ...........................\n",
      "[CV] ............ neurons=203, epochs=20, batch_size=60, total=   3.3s\n",
      "[CV] neurons=203, epochs=20, batch_size=60 ...........................\n",
      "[CV] ............ neurons=203, epochs=20, batch_size=60, total=   3.5s\n",
      "[CV] neurons=74, epochs=10, batch_size=60 ............................\n",
      "[CV] ............. neurons=74, epochs=10, batch_size=60, total=   1.4s\n",
      "[CV] neurons=74, epochs=10, batch_size=60 ............................\n",
      "[CV] ............. neurons=74, epochs=10, batch_size=60, total=   2.5s\n",
      "[CV] neurons=74, epochs=10, batch_size=60 ............................\n",
      "[CV] ............. neurons=74, epochs=10, batch_size=60, total=   1.5s\n",
      "[CV] neurons=235, epochs=10, batch_size=40 ...........................\n",
      "[CV] ............ neurons=235, epochs=10, batch_size=40, total=   1.9s\n",
      "[CV] neurons=235, epochs=10, batch_size=40 ...........................\n",
      "[CV] ............ neurons=235, epochs=10, batch_size=40, total=   2.3s\n",
      "[CV] neurons=235, epochs=10, batch_size=40 ...........................\n",
      "[CV] ............ neurons=235, epochs=10, batch_size=40, total=   2.2s\n",
      "[CV] neurons=267, epochs=20, batch_size=50 ...........................\n",
      "[CV] ............ neurons=267, epochs=20, batch_size=50, total=   4.3s\n",
      "[CV] neurons=267, epochs=20, batch_size=50 ...........................\n",
      "[CV] ............ neurons=267, epochs=20, batch_size=50, total=   5.7s\n",
      "[CV] neurons=267, epochs=20, batch_size=50 ...........................\n",
      "[CV] ............ neurons=267, epochs=20, batch_size=50, total=   6.2s\n",
      "[CV] neurons=138, epochs=50, batch_size=40 ...........................\n",
      "[CV] ............ neurons=138, epochs=50, batch_size=40, total=   5.2s\n",
      "[CV] neurons=138, epochs=50, batch_size=40 ...........................\n",
      "[CV] ............ neurons=138, epochs=50, batch_size=40, total=   6.8s\n",
      "[CV] neurons=138, epochs=50, batch_size=40 ...........................\n",
      "[CV] ............ neurons=138, epochs=50, batch_size=40, total=   9.2s\n",
      "[CV] neurons=300, epochs=40, batch_size=100 ..........................\n",
      "[CV] ........... neurons=300, epochs=40, batch_size=100, total=   4.8s\n",
      "[CV] neurons=300, epochs=40, batch_size=100 ..........................\n",
      "[CV] ........... neurons=300, epochs=40, batch_size=100, total=   5.7s\n",
      "[CV] neurons=300, epochs=40, batch_size=100 ..........................\n",
      "[CV] ........... neurons=300, epochs=40, batch_size=100, total=   5.9s\n",
      "[CV] neurons=10, epochs=10, batch_size=20 ............................\n",
      "[CV] ............. neurons=10, epochs=10, batch_size=20, total=   5.3s\n",
      "[CV] neurons=10, epochs=10, batch_size=20 ............................\n",
      "[CV] ............. neurons=10, epochs=10, batch_size=20, total=   2.9s\n",
      "[CV] neurons=10, epochs=10, batch_size=20 ............................\n",
      "[CV] ............. neurons=10, epochs=10, batch_size=20, total=   4.2s\n",
      "[CV] neurons=42, epochs=10, batch_size=50 ............................\n",
      "[CV] ............. neurons=42, epochs=10, batch_size=50, total=   2.3s\n",
      "[CV] neurons=42, epochs=10, batch_size=50 ............................\n",
      "[CV] ............. neurons=42, epochs=10, batch_size=50, total=   2.0s\n",
      "[CV] neurons=42, epochs=10, batch_size=50 ............................\n",
      "[CV] ............. neurons=42, epochs=10, batch_size=50, total=   2.3s\n",
      "[CV] neurons=106, epochs=50, batch_size=80 ...........................\n",
      "[CV] ............ neurons=106, epochs=50, batch_size=80, total=   4.1s\n",
      "[CV] neurons=106, epochs=50, batch_size=80 ...........................\n",
      "[CV] ............ neurons=106, epochs=50, batch_size=80, total=   4.2s\n",
      "[CV] neurons=106, epochs=50, batch_size=80 ...........................\n",
      "[CV] ............ neurons=106, epochs=50, batch_size=80, total=   5.1s\n",
      "[CV] neurons=138, epochs=50, batch_size=20 ...........................\n",
      "[CV] ............ neurons=138, epochs=50, batch_size=20, total=  13.3s\n",
      "[CV] neurons=138, epochs=50, batch_size=20 ...........................\n",
      "[CV] ............ neurons=138, epochs=50, batch_size=20, total=  14.5s\n",
      "[CV] neurons=138, epochs=50, batch_size=20 ...........................\n",
      "[CV] ............ neurons=138, epochs=50, batch_size=20, total=   9.9s\n",
      "[CV] neurons=10, epochs=40, batch_size=20 ............................\n",
      "[CV] ............. neurons=10, epochs=40, batch_size=20, total=   7.3s\n",
      "[CV] neurons=10, epochs=40, batch_size=20 ............................\n",
      "[CV] ............. neurons=10, epochs=40, batch_size=20, total=   7.5s\n",
      "[CV] neurons=10, epochs=40, batch_size=20 ............................\n",
      "[CV] ............. neurons=10, epochs=40, batch_size=20, total=   7.7s\n",
      "[CV] neurons=74, epochs=20, batch_size=100 ...........................\n",
      "[CV] ............ neurons=74, epochs=20, batch_size=100, total=   2.7s\n",
      "[CV] neurons=74, epochs=20, batch_size=100 ...........................\n",
      "[CV] ............ neurons=74, epochs=20, batch_size=100, total=   3.4s\n",
      "[CV] neurons=74, epochs=20, batch_size=100 ...........................\n",
      "[CV] ............ neurons=74, epochs=20, batch_size=100, total=   2.8s\n",
      "[CV] neurons=10, epochs=10, batch_size=100 ...........................\n",
      "[CV] ............ neurons=10, epochs=10, batch_size=100, total=   3.3s\n",
      "[CV] neurons=10, epochs=10, batch_size=100 ...........................\n",
      "[CV] ............ neurons=10, epochs=10, batch_size=100, total=   2.6s\n",
      "[CV] neurons=10, epochs=10, batch_size=100 ...........................\n",
      "[CV] ............ neurons=10, epochs=10, batch_size=100, total=   2.8s\n",
      "[CV] neurons=106, epochs=40, batch_size=100 ..........................\n",
      "[CV] ........... neurons=106, epochs=40, batch_size=100, total=   5.8s\n",
      "[CV] neurons=106, epochs=40, batch_size=100 ..........................\n",
      "[CV] ........... neurons=106, epochs=40, batch_size=100, total=   7.3s\n",
      "[CV] neurons=106, epochs=40, batch_size=100 ..........................\n"
     ]
    },
    {
     "name": "stdout",
     "output_type": "stream",
     "text": [
      "[CV] ........... neurons=106, epochs=40, batch_size=100, total=   5.8s\n"
     ]
    },
    {
     "name": "stderr",
     "output_type": "stream",
     "text": [
      "[Parallel(n_jobs=1)]: Done  60 out of  60 | elapsed:  4.3min finished\n"
     ]
    },
    {
     "name": "stdout",
     "output_type": "stream",
     "text": [
      "(1417, 5) {'neurons': 235, 'epochs': 50, 'batch_size': 20}\n",
      "Fitting 3 folds for each of 20 candidates, totalling 60 fits\n",
      "[CV] neurons=235, epochs=40, batch_size=60 ...........................\n"
     ]
    },
    {
     "name": "stderr",
     "output_type": "stream",
     "text": [
      "[Parallel(n_jobs=1)]: Using backend SequentialBackend with 1 concurrent workers.\n"
     ]
    },
    {
     "name": "stdout",
     "output_type": "stream",
     "text": [
      "[CV] ............ neurons=235, epochs=40, batch_size=60, total=   6.3s\n",
      "[CV] neurons=235, epochs=40, batch_size=60 ...........................\n"
     ]
    },
    {
     "name": "stderr",
     "output_type": "stream",
     "text": [
      "[Parallel(n_jobs=1)]: Done   1 out of   1 | elapsed:    6.3s remaining:    0.0s\n"
     ]
    },
    {
     "name": "stdout",
     "output_type": "stream",
     "text": [
      "[CV] ............ neurons=235, epochs=40, batch_size=60, total=   6.1s\n",
      "[CV] neurons=235, epochs=40, batch_size=60 ...........................\n",
      "[CV] ............ neurons=235, epochs=40, batch_size=60, total=   8.4s\n",
      "[CV] neurons=300, epochs=50, batch_size=40 ...........................\n",
      "[CV] ............ neurons=300, epochs=50, batch_size=40, total=  11.2s\n",
      "[CV] neurons=300, epochs=50, batch_size=40 ...........................\n",
      "[CV] ............ neurons=300, epochs=50, batch_size=40, total=  10.7s\n",
      "[CV] neurons=300, epochs=50, batch_size=40 ...........................\n",
      "[CV] ............ neurons=300, epochs=50, batch_size=40, total=  13.4s\n",
      "[CV] neurons=138, epochs=50, batch_size=60 ...........................\n",
      "[CV] ............ neurons=138, epochs=50, batch_size=60, total=   5.9s\n",
      "[CV] neurons=138, epochs=50, batch_size=60 ...........................\n",
      "[CV] ............ neurons=138, epochs=50, batch_size=60, total=   6.1s\n",
      "[CV] neurons=138, epochs=50, batch_size=60 ...........................\n",
      "[CV] ............ neurons=138, epochs=50, batch_size=60, total=   7.9s\n",
      "[CV] neurons=10, epochs=50, batch_size=60 ............................\n",
      "[CV] ............. neurons=10, epochs=50, batch_size=60, total=   6.5s\n",
      "[CV] neurons=10, epochs=50, batch_size=60 ............................\n",
      "[CV] ............. neurons=10, epochs=50, batch_size=60, total=   9.4s\n",
      "[CV] neurons=10, epochs=50, batch_size=60 ............................\n",
      "[CV] ............. neurons=10, epochs=50, batch_size=60, total=   5.9s\n",
      "[CV] neurons=300, epochs=20, batch_size=60 ...........................\n",
      "[CV] ............ neurons=300, epochs=20, batch_size=60, total=   5.0s\n",
      "[CV] neurons=300, epochs=20, batch_size=60 ...........................\n",
      "[CV] ............ neurons=300, epochs=20, batch_size=60, total=   5.1s\n",
      "[CV] neurons=300, epochs=20, batch_size=60 ...........................\n",
      "[CV] ............ neurons=300, epochs=20, batch_size=60, total=   5.0s\n",
      "[CV] neurons=74, epochs=20, batch_size=80 ............................\n",
      "[CV] ............. neurons=74, epochs=20, batch_size=80, total=   5.1s\n",
      "[CV] neurons=74, epochs=20, batch_size=80 ............................\n",
      "[CV] ............. neurons=74, epochs=20, batch_size=80, total=   5.7s\n",
      "[CV] neurons=74, epochs=20, batch_size=80 ............................\n",
      "[CV] ............. neurons=74, epochs=20, batch_size=80, total=   5.8s\n",
      "[CV] neurons=106, epochs=10, batch_size=80 ...........................\n",
      "[CV] ............ neurons=106, epochs=10, batch_size=80, total=   4.2s\n",
      "[CV] neurons=106, epochs=10, batch_size=80 ...........................\n",
      "[CV] ............ neurons=106, epochs=10, batch_size=80, total=   5.7s\n",
      "[CV] neurons=106, epochs=10, batch_size=80 ...........................\n",
      "[CV] ............ neurons=106, epochs=10, batch_size=80, total=   3.9s\n",
      "[CV] neurons=267, epochs=40, batch_size=80 ...........................\n",
      "[CV] ............ neurons=267, epochs=40, batch_size=80, total=   7.8s\n",
      "[CV] neurons=267, epochs=40, batch_size=80 ...........................\n",
      "[CV] ............ neurons=267, epochs=40, batch_size=80, total=   7.8s\n",
      "[CV] neurons=267, epochs=40, batch_size=80 ...........................\n",
      "[CV] ............ neurons=267, epochs=40, batch_size=80, total=   8.0s\n",
      "[CV] neurons=10, epochs=20, batch_size=50 ............................\n",
      "[CV] ............. neurons=10, epochs=20, batch_size=50, total=   5.0s\n",
      "[CV] neurons=10, epochs=20, batch_size=50 ............................\n",
      "[CV] ............. neurons=10, epochs=20, batch_size=50, total=   4.9s\n",
      "[CV] neurons=10, epochs=20, batch_size=50 ............................\n",
      "[CV] ............. neurons=10, epochs=20, batch_size=50, total=   5.3s\n",
      "[CV] neurons=74, epochs=50, batch_size=20 ............................\n",
      "[CV] ............. neurons=74, epochs=50, batch_size=20, total=  16.9s\n",
      "[CV] neurons=74, epochs=50, batch_size=20 ............................\n",
      "[CV] ............. neurons=74, epochs=50, batch_size=20, total=  14.9s\n",
      "[CV] neurons=74, epochs=50, batch_size=20 ............................\n",
      "[CV] ............. neurons=74, epochs=50, batch_size=20, total=  13.6s\n",
      "[CV] neurons=106, epochs=20, batch_size=60 ...........................\n",
      "[CV] ............ neurons=106, epochs=20, batch_size=60, total=   5.8s\n",
      "[CV] neurons=106, epochs=20, batch_size=60 ...........................\n",
      "[CV] ............ neurons=106, epochs=20, batch_size=60, total=   6.7s\n",
      "[CV] neurons=106, epochs=20, batch_size=60 ...........................\n",
      "[CV] ............ neurons=106, epochs=20, batch_size=60, total=   7.9s\n",
      "[CV] neurons=74, epochs=10, batch_size=40 ............................\n",
      "[CV] ............. neurons=74, epochs=10, batch_size=40, total=   5.5s\n",
      "[CV] neurons=74, epochs=10, batch_size=40 ............................\n",
      "[CV] ............. neurons=74, epochs=10, batch_size=40, total=   6.2s\n",
      "[CV] neurons=74, epochs=10, batch_size=40 ............................\n",
      "[CV] ............. neurons=74, epochs=10, batch_size=40, total=   6.2s\n",
      "[CV] neurons=300, epochs=40, batch_size=20 ...........................\n",
      "[CV] ............ neurons=300, epochs=40, batch_size=20, total=  14.9s\n",
      "[CV] neurons=300, epochs=40, batch_size=20 ...........................\n",
      "[CV] ............ neurons=300, epochs=40, batch_size=20, total=  16.1s\n",
      "[CV] neurons=300, epochs=40, batch_size=20 ...........................\n",
      "[CV] ............ neurons=300, epochs=40, batch_size=20, total=  18.0s\n",
      "[CV] neurons=138, epochs=10, batch_size=50 ...........................\n",
      "[CV] ............ neurons=138, epochs=10, batch_size=50, total=   5.0s\n",
      "[CV] neurons=138, epochs=10, batch_size=50 ...........................\n",
      "[CV] ............ neurons=138, epochs=10, batch_size=50, total=   5.0s\n",
      "[CV] neurons=138, epochs=10, batch_size=50 ...........................\n",
      "[CV] ............ neurons=138, epochs=10, batch_size=50, total=   5.0s\n",
      "[CV] neurons=138, epochs=40, batch_size=80 ...........................\n",
      "[CV] ............ neurons=138, epochs=40, batch_size=80, total=   6.8s\n",
      "[CV] neurons=138, epochs=40, batch_size=80 ...........................\n",
      "[CV] ............ neurons=138, epochs=40, batch_size=80, total=   6.5s\n",
      "[CV] neurons=138, epochs=40, batch_size=80 ...........................\n",
      "[CV] ............ neurons=138, epochs=40, batch_size=80, total=   6.8s\n",
      "[CV] neurons=267, epochs=20, batch_size=40 ...........................\n",
      "[CV] ............ neurons=267, epochs=20, batch_size=40, total=   7.5s\n",
      "[CV] neurons=267, epochs=20, batch_size=40 ...........................\n",
      "[CV] ............ neurons=267, epochs=20, batch_size=40, total=   8.2s\n",
      "[CV] neurons=267, epochs=20, batch_size=40 ...........................\n",
      "[CV] ............ neurons=267, epochs=20, batch_size=40, total=   9.3s\n",
      "[CV] neurons=138, epochs=20, batch_size=40 ...........................\n",
      "[CV] ............ neurons=138, epochs=20, batch_size=40, total=   9.0s\n",
      "[CV] neurons=138, epochs=20, batch_size=40 ...........................\n",
      "[CV] ............ neurons=138, epochs=20, batch_size=40, total=   7.3s\n",
      "[CV] neurons=138, epochs=20, batch_size=40 ...........................\n",
      "[CV] ............ neurons=138, epochs=20, batch_size=40, total=   7.2s\n",
      "[CV] neurons=138, epochs=10, batch_size=100 ..........................\n",
      "[CV] ........... neurons=138, epochs=10, batch_size=100, total=   5.3s\n",
      "[CV] neurons=138, epochs=10, batch_size=100 ..........................\n",
      "[CV] ........... neurons=138, epochs=10, batch_size=100, total=   5.7s\n",
      "[CV] neurons=138, epochs=10, batch_size=100 ..........................\n",
      "[CV] ........... neurons=138, epochs=10, batch_size=100, total=   5.3s\n",
      "[CV] neurons=74, epochs=40, batch_size=20 ............................\n",
      "[CV] ............. neurons=74, epochs=40, batch_size=20, total=  15.0s\n",
      "[CV] neurons=74, epochs=40, batch_size=20 ............................\n",
      "[CV] ............. neurons=74, epochs=40, batch_size=20, total=  16.5s\n",
      "[CV] neurons=74, epochs=40, batch_size=20 ............................\n",
      "[CV] ............. neurons=74, epochs=40, batch_size=20, total=  13.9s\n",
      "[CV] neurons=267, epochs=50, batch_size=50 ...........................\n",
      "[CV] ............ neurons=267, epochs=50, batch_size=50, total=  13.6s\n",
      "[CV] neurons=267, epochs=50, batch_size=50 ...........................\n",
      "[CV] ............ neurons=267, epochs=50, batch_size=50, total=  14.7s\n",
      "[CV] neurons=267, epochs=50, batch_size=50 ...........................\n"
     ]
    },
    {
     "name": "stdout",
     "output_type": "stream",
     "text": [
      "[CV] ............ neurons=267, epochs=50, batch_size=50, total=  14.2s\n"
     ]
    },
    {
     "name": "stderr",
     "output_type": "stream",
     "text": [
      "[Parallel(n_jobs=1)]: Done  60 out of  60 | elapsed:  8.4min finished\n"
     ]
    },
    {
     "name": "stdout",
     "output_type": "stream",
     "text": [
      "(1417, 9) {'neurons': 300, 'epochs': 40, 'batch_size': 20}\n",
      "Fitting 3 folds for each of 20 candidates, totalling 60 fits\n",
      "[CV] neurons=10, epochs=50, batch_size=50 ............................\n"
     ]
    },
    {
     "name": "stderr",
     "output_type": "stream",
     "text": [
      "[Parallel(n_jobs=1)]: Using backend SequentialBackend with 1 concurrent workers.\n"
     ]
    },
    {
     "name": "stdout",
     "output_type": "stream",
     "text": [
      "[CV] ............. neurons=10, epochs=50, batch_size=50, total=   9.0s\n",
      "[CV] neurons=10, epochs=50, batch_size=50 ............................\n"
     ]
    },
    {
     "name": "stderr",
     "output_type": "stream",
     "text": [
      "[Parallel(n_jobs=1)]: Done   1 out of   1 | elapsed:    9.0s remaining:    0.0s\n"
     ]
    },
    {
     "name": "stdout",
     "output_type": "stream",
     "text": [
      "[CV] ............. neurons=10, epochs=50, batch_size=50, total=  12.1s\n",
      "[CV] neurons=10, epochs=50, batch_size=50 ............................\n",
      "[CV] ............. neurons=10, epochs=50, batch_size=50, total=   7.9s\n",
      "[CV] neurons=171, epochs=20, batch_size=80 ...........................\n",
      "[CV] ............ neurons=171, epochs=20, batch_size=80, total=   5.8s\n",
      "[CV] neurons=171, epochs=20, batch_size=80 ...........................\n",
      "[CV] ............ neurons=171, epochs=20, batch_size=80, total=   8.3s\n",
      "[CV] neurons=171, epochs=20, batch_size=80 ...........................\n",
      "[CV] ............ neurons=171, epochs=20, batch_size=80, total=   7.3s\n",
      "[CV] neurons=267, epochs=40, batch_size=50 ...........................\n",
      "[CV] ............ neurons=267, epochs=40, batch_size=50, total=  11.9s\n",
      "[CV] neurons=267, epochs=40, batch_size=50 ...........................\n",
      "[CV] ............ neurons=267, epochs=40, batch_size=50, total=  11.8s\n",
      "[CV] neurons=267, epochs=40, batch_size=50 ...........................\n",
      "[CV] ............ neurons=267, epochs=40, batch_size=50, total=  11.5s\n",
      "[CV] neurons=267, epochs=20, batch_size=50 ...........................\n",
      "[CV] ............ neurons=267, epochs=20, batch_size=50, total=   8.8s\n",
      "[CV] neurons=267, epochs=20, batch_size=50 ...........................\n",
      "[CV] ............ neurons=267, epochs=20, batch_size=50, total=   8.1s\n",
      "[CV] neurons=267, epochs=20, batch_size=50 ...........................\n",
      "[CV] ............ neurons=267, epochs=20, batch_size=50, total=   8.7s\n",
      "[CV] neurons=267, epochs=50, batch_size=60 ...........................\n",
      "[CV] ............ neurons=267, epochs=50, batch_size=60, total=  12.9s\n",
      "[CV] neurons=267, epochs=50, batch_size=60 ...........................\n",
      "[CV] ............ neurons=267, epochs=50, batch_size=60, total=  12.5s\n",
      "[CV] neurons=267, epochs=50, batch_size=60 ...........................\n",
      "[CV] ............ neurons=267, epochs=50, batch_size=60, total=  11.4s\n",
      "[CV] neurons=10, epochs=50, batch_size=20 ............................\n",
      "[CV] ............. neurons=10, epochs=50, batch_size=20, total=  21.8s\n",
      "[CV] neurons=10, epochs=50, batch_size=20 ............................\n",
      "[CV] ............. neurons=10, epochs=50, batch_size=20, total=  22.1s\n",
      "[CV] neurons=10, epochs=50, batch_size=20 ............................\n",
      "[CV] ............. neurons=10, epochs=50, batch_size=20, total=  18.6s\n",
      "[CV] neurons=171, epochs=50, batch_size=20 ...........................\n",
      "[CV] ............ neurons=171, epochs=50, batch_size=20, total=  24.8s\n",
      "[CV] neurons=171, epochs=50, batch_size=20 ...........................\n",
      "[CV] ............ neurons=171, epochs=50, batch_size=20, total=  20.4s\n",
      "[CV] neurons=171, epochs=50, batch_size=20 ...........................\n",
      "[CV] ............ neurons=171, epochs=50, batch_size=20, total=  23.2s\n",
      "[CV] neurons=42, epochs=10, batch_size=60 ............................\n",
      "[CV] ............. neurons=42, epochs=10, batch_size=60, total=   6.9s\n",
      "[CV] neurons=42, epochs=10, batch_size=60 ............................\n",
      "[CV] ............. neurons=42, epochs=10, batch_size=60, total=   7.5s\n",
      "[CV] neurons=42, epochs=10, batch_size=60 ............................\n",
      "[CV] ............. neurons=42, epochs=10, batch_size=60, total=   6.7s\n",
      "[CV] neurons=235, epochs=10, batch_size=50 ...........................\n",
      "[CV] ............ neurons=235, epochs=10, batch_size=50, total=   7.5s\n",
      "[CV] neurons=235, epochs=10, batch_size=50 ...........................\n",
      "[CV] ............ neurons=235, epochs=10, batch_size=50, total=   8.4s\n",
      "[CV] neurons=235, epochs=10, batch_size=50 ...........................\n",
      "[CV] ............ neurons=235, epochs=10, batch_size=50, total=  12.2s\n",
      "[CV] neurons=138, epochs=40, batch_size=50 ...........................\n",
      "[CV] ............ neurons=138, epochs=40, batch_size=50, total=  14.6s\n",
      "[CV] neurons=138, epochs=40, batch_size=50 ...........................\n",
      "[CV] ............ neurons=138, epochs=40, batch_size=50, total=  11.1s\n",
      "[CV] neurons=138, epochs=40, batch_size=50 ...........................\n",
      "[CV] ............ neurons=138, epochs=40, batch_size=50, total=   9.4s\n",
      "[CV] neurons=235, epochs=50, batch_size=40 ...........................\n",
      "[CV] ............ neurons=235, epochs=50, batch_size=40, total=  13.7s\n",
      "[CV] neurons=235, epochs=50, batch_size=40 ...........................\n",
      "[CV] ............ neurons=235, epochs=50, batch_size=40, total=  12.6s\n",
      "[CV] neurons=235, epochs=50, batch_size=40 ...........................\n",
      "[CV] ............ neurons=235, epochs=50, batch_size=40, total=  20.7s\n",
      "[CV] neurons=267, epochs=50, batch_size=50 ...........................\n",
      "[CV] ............ neurons=267, epochs=50, batch_size=50, total=  12.3s\n",
      "[CV] neurons=267, epochs=50, batch_size=50 ...........................\n",
      "[CV] ............ neurons=267, epochs=50, batch_size=50, total=  21.3s\n",
      "[CV] neurons=267, epochs=50, batch_size=50 ...........................\n",
      "[CV] ............ neurons=267, epochs=50, batch_size=50, total=  17.8s\n",
      "[CV] neurons=106, epochs=40, batch_size=50 ...........................\n",
      "[CV] ............ neurons=106, epochs=40, batch_size=50, total=  12.5s\n",
      "[CV] neurons=106, epochs=40, batch_size=50 ...........................\n",
      "[CV] ............ neurons=106, epochs=40, batch_size=50, total=  13.4s\n",
      "[CV] neurons=106, epochs=40, batch_size=50 ...........................\n",
      "[CV] ............ neurons=106, epochs=40, batch_size=50, total=  12.7s\n",
      "[CV] neurons=267, epochs=50, batch_size=100 ..........................\n",
      "[CV] ........... neurons=267, epochs=50, batch_size=100, total=  12.8s\n",
      "[CV] neurons=267, epochs=50, batch_size=100 ..........................\n",
      "[CV] ........... neurons=267, epochs=50, batch_size=100, total=  12.5s\n",
      "[CV] neurons=267, epochs=50, batch_size=100 ..........................\n",
      "[CV] ........... neurons=267, epochs=50, batch_size=100, total=  12.6s\n",
      "[CV] neurons=203, epochs=40, batch_size=100 ..........................\n",
      "[CV] ........... neurons=203, epochs=40, batch_size=100, total=   9.4s\n",
      "[CV] neurons=203, epochs=40, batch_size=100 ..........................\n",
      "[CV] ........... neurons=203, epochs=40, batch_size=100, total=  11.5s\n",
      "[CV] neurons=203, epochs=40, batch_size=100 ..........................\n",
      "[CV] ........... neurons=203, epochs=40, batch_size=100, total=   8.5s\n",
      "[CV] neurons=171, epochs=10, batch_size=80 ...........................\n",
      "[CV] ............ neurons=171, epochs=10, batch_size=80, total=   6.6s\n",
      "[CV] neurons=171, epochs=10, batch_size=80 ...........................\n",
      "[CV] ............ neurons=171, epochs=10, batch_size=80, total=   6.7s\n",
      "[CV] neurons=171, epochs=10, batch_size=80 ...........................\n",
      "[CV] ............ neurons=171, epochs=10, batch_size=80, total=   6.8s\n",
      "[CV] neurons=138, epochs=20, batch_size=60 ...........................\n",
      "[CV] ............ neurons=138, epochs=20, batch_size=60, total=   7.9s\n",
      "[CV] neurons=138, epochs=20, batch_size=60 ...........................\n",
      "[CV] ............ neurons=138, epochs=20, batch_size=60, total=   8.2s\n",
      "[CV] neurons=138, epochs=20, batch_size=60 ...........................\n",
      "[CV] ............ neurons=138, epochs=20, batch_size=60, total=   8.0s\n",
      "[CV] neurons=171, epochs=40, batch_size=100 ..........................\n",
      "[CV] ........... neurons=171, epochs=40, batch_size=100, total=   9.0s\n",
      "[CV] neurons=171, epochs=40, batch_size=100 ..........................\n",
      "[CV] ........... neurons=171, epochs=40, batch_size=100, total=   8.9s\n",
      "[CV] neurons=171, epochs=40, batch_size=100 ..........................\n",
      "[CV] ........... neurons=171, epochs=40, batch_size=100, total=   9.1s\n",
      "[CV] neurons=106, epochs=40, batch_size=20 ...........................\n",
      "[CV] ............ neurons=106, epochs=40, batch_size=20, total=  20.6s\n",
      "[CV] neurons=106, epochs=40, batch_size=20 ...........................\n",
      "[CV] ............ neurons=106, epochs=40, batch_size=20, total=  17.6s\n",
      "[CV] neurons=106, epochs=40, batch_size=20 ...........................\n",
      "[CV] ............ neurons=106, epochs=40, batch_size=20, total=  16.5s\n",
      "[CV] neurons=300, epochs=40, batch_size=60 ...........................\n",
      "[CV] ............ neurons=300, epochs=40, batch_size=60, total=  12.1s\n",
      "[CV] neurons=300, epochs=40, batch_size=60 ...........................\n",
      "[CV] ............ neurons=300, epochs=40, batch_size=60, total=  12.1s\n",
      "[CV] neurons=300, epochs=40, batch_size=60 ...........................\n"
     ]
    },
    {
     "name": "stdout",
     "output_type": "stream",
     "text": [
      "[CV] ............ neurons=300, epochs=40, batch_size=60, total=  11.5s\n"
     ]
    },
    {
     "name": "stderr",
     "output_type": "stream",
     "text": [
      "[Parallel(n_jobs=1)]: Done  60 out of  60 | elapsed: 12.3min finished\n",
      "/Users/Jesper/miniconda/envs/py36/lib/python3.6/site-packages/sklearn/model_selection/_search.py:841: DeprecationWarning: The default of the `iid` parameter will change from True to False in version 0.22 and will be removed in 0.24. This will change numeric results when test-set sizes are unequal.\n",
      "  DeprecationWarning)\n"
     ]
    },
    {
     "name": "stdout",
     "output_type": "stream",
     "text": [
      "(1417, 18) {'neurons': 171, 'epochs': 50, 'batch_size': 20}\n"
     ]
    }
   ],
   "source": [
    "dfTest = loader()\n",
    "neuron_params = dict()\n",
    "\n",
    "def allowed_key(key):\n",
    "    if  1 in key or 5 in key or 9 in key or 18 in key:\n",
    "            return True\n",
    "    return False\n",
    "\n",
    "for key in dfTest.keys():\n",
    "    if allowed_key(key):\n",
    "        X_train, X_test, y_train, y_test = getValues(dfTest[key])\n",
    "        \n",
    "        best_params = get_best_parameters(X_train, y_train)\n",
    "        neuron_params[key] = best_params\n",
    "        print(key, best_params)"
   ]
  },
  {
   "cell_type": "markdown",
   "metadata": {},
   "source": [
    "### Model Functions\n",
    "\n",
    "These functions are used for normalizing the dataset as well as building and fitting the models"
   ]
  },
  {
   "cell_type": "code",
   "execution_count": null,
   "metadata": {},
   "outputs": [
    {
     "name": "stderr",
     "output_type": "stream",
     "text": [
      "Using TensorFlow backend.\n"
     ]
    }
   ],
   "source": [
    "from sklearn.model_selection import train_test_split\n",
    "from sklearn.metrics import mean_squared_error, mean_absolute_error\n",
    "from keras.models import Sequential\n",
    "from keras.layers import Dense\n",
    "from sklearn import preprocessing\n",
    "import sys\n",
    "import pickle\n",
    "\n",
    "def fit_nn(samples, targets, neurons=238, epochs=20, batch_size=50):\n",
    "    model = Sequential()\n",
    "    model.add(Dense(neurons, activation='relu',\n",
    "             input_shape=(samples.shape[1],)))\n",
    "    model.add(Dense(neurons, activation='relu'))\n",
    "    model.add(Dense(1))\n",
    "    model.compile(optimizer='rmsprop', loss='mse', metrics=['mae'])\n",
    "    \n",
    "    model.fit(samples, targets,\n",
    "             epochs=epochs, batch_size=batch_size, verbose=0)\n",
    "    \n",
    "    # This prints the model size\n",
    "    p = pickle.dumps(model)\n",
    "    print(sys.getsizeof(p))\n",
    "    \n",
    "    return model\n",
    "\n",
    "def forecast_nn(model, samples):\n",
    "    predictions = model.predict(samples)\n",
    "    return predictions\n",
    "\n",
    "def normalize(train, test):\n",
    "    mean = train.mean(axis=0)    \n",
    "    train -= mean\n",
    "    std = train.std(axis=0)\n",
    "    train /= std\n",
    "\n",
    "    test -= mean\n",
    "    test /= std\n",
    "    return train, test\n",
    "\n",
    "def getValues(data):\n",
    "    data.set_index(\"Date Time\", inplace=True)\n",
    "    included = np.array(data[INDEPENDENT_FEATURES + ['surf_temp_sqerror']].notnull().all(axis=1))\n",
    "    rsi = {\n",
    "        \"data\": data.loc[included, INDEPENDENT_FEATURES].values.astype(np.float), \n",
    "        \"target\": data.loc[included, 'surf_temp_sqerror'].values.astype(np.float)\n",
    "    }\n",
    "    return train_test_split(rsi[\"data\"], rsi[\"target\"], test_size=0.3, random_state=0)\n"
   ]
  },
  {
   "cell_type": "markdown",
   "metadata": {},
   "source": [
    "### Plot predictions\n",
    "\n",
    "Used for plotting a graph depicting the true and estimated target value for approximations about model accuracy and overfitting/underfitting analysis."
   ]
  },
  {
   "cell_type": "code",
   "execution_count": null,
   "metadata": {},
   "outputs": [],
   "source": [
    "from matplotlib import pyplot\n",
    "import matplotlib.pyplot as plt\n",
    "\n",
    "def plotPredictions(key, true, predictions):\n",
    "    plt.figure(figsize=(16,7))\n",
    "    plt.subplot(121)\n",
    "    pyplot.scatter(true, predictions, color=\"red\", alpha=0.5, s=10)\n",
    "    pyplot.xlim(0,20)\n",
    "    pyplot.ylim(0,20)\n",
    "    pyplot.plot(range(60), color='black', alpha=0.2)\n",
    "    pyplot.grid()\n",
    "    pyplot.title(key, fontsize=16)\n",
    "    pyplot.xlabel('surf_temp_sqerror')\n",
    "    pyplot.ylabel('Estimated surf_temp_sqerror')"
   ]
  },
  {
   "cell_type": "markdown",
   "metadata": {},
   "source": [
    "### Experiment 1\n",
    "\n",
    "The first experiment tested on the dataset collected from the winter season"
   ]
  },
  {
   "cell_type": "code",
   "execution_count": null,
   "metadata": {},
   "outputs": [],
   "source": [
    "def experiment(repeats, data, key):\n",
    "    X_train, X_test, y_train, y_test = getValues(data)\n",
    "    X_train, X_test = normalize(X_train, X_test)\n",
    "    \n",
    "    MSE_benchmark = 100\n",
    "    index_val = 20\n",
    "    predictionsBest = list()\n",
    "    trueBest = list()\n",
    "\n",
    "    error_scores = list()\n",
    "    results = pd.DataFrame()\n",
    "    print(key)\n",
    "    print(X_train.shape)\n",
    "    for r in range(repeats):\n",
    "        forest_model = fit_nn(X_train, y_train)\n",
    "\n",
    "        predictions = forecast_nn(forest_model, X_test)\n",
    "        true = y_test\n",
    "    \n",
    "        # report performance\n",
    "        mse = mean_squared_error(true, predictions)\n",
    "        print('%d) Test MSE: %.3f' % (r+1, mse))\n",
    "        error_scores.append(mse)\n",
    "        plotPredictions(key, true, predictions)\n",
    "        if (mse < MSE_benchmark):\n",
    "            MSE_benchmark = mse\n",
    "            predictionsBest = predictions\n",
    "            trueBest = true\n",
    "            index_val = r\n",
    "    print(index_val, )\n",
    "    return trueBest, predictionsBest, error_scores"
   ]
  },
  {
   "cell_type": "markdown",
   "metadata": {},
   "source": [
    "### Running the experiment\n",
    "\n",
    "The experiment is run for the selected forecast lengths (1, 5, 9 and 18) which is extracted from the dataset."
   ]
  },
  {
   "cell_type": "code",
   "execution_count": null,
   "metadata": {},
   "outputs": [],
   "source": [
    "%matplotlib inline\n",
    "\n",
    "repeats = 10\n",
    "features = 1\n",
    "results = dict()\n",
    "\n",
    "trueVals = []\n",
    "predictedVals = []\n",
    "\n",
    "def allowed_key(key):\n",
    "    if  1 in key or 5 in key or 9 in key or 18 in key:\n",
    "            return True\n",
    "    return False\n",
    "\n",
    "for key in df.keys():\n",
    "    if allowed_key(key):\n",
    "        true, predictions, error_scores = experiment(repeats, df[key], key, neuron_params[key])\n",
    "        results[key] = error_scores\n",
    "        trueVals.extend(true)\n",
    "        predictedVals.extend(predictions)\n",
    "    "
   ]
  },
  {
   "cell_type": "markdown",
   "metadata": {},
   "source": [
    "### Saving and loading the results\n",
    "\n",
    "The results from the first experiment is saved to the results directory. Another method is defined to retrieve the stored results."
   ]
  },
  {
   "cell_type": "code",
   "execution_count": null,
   "metadata": {},
   "outputs": [],
   "source": [
    "import csv\n",
    "\n",
    "def saver(dictex):\n",
    "    for key, val in dictex.items():\n",
    "        val = pd.DataFrame(val)\n",
    "        val.to_csv(\"results/dnn/results_{}.csv\".format(str(key)))\n",
    "\n",
    "    with open(\"results/dnn/keys.txt\", \"w\") as f: #saving keys to file\n",
    "        f.write(str(list(dictex.keys())))\n",
    "        \n",
    "saver(results)"
   ]
  },
  {
   "cell_type": "code",
   "execution_count": null,
   "metadata": {},
   "outputs": [],
   "source": [
    "def result_loader(directory='results'):\n",
    "    \"\"\"Reading data from keys\"\"\"\n",
    "    with open(\"{}/dnn/keys.txt\".format(directory), \"r\") as f:\n",
    "        keys = eval(f.read())\n",
    "\n",
    "    dictex = {}    \n",
    "    for key in keys:\n",
    "        dictex[key] = pd.read_csv(\"{}/dnn/results_{}.csv\".format(directory, str(key)))\n",
    "\n",
    "    return dictex\n"
   ]
  },
  {
   "cell_type": "markdown",
   "metadata": {},
   "source": [
    "### Depicting the Error Span of the Predictions\n",
    "\n",
    "To better showcase the model estimations, an errorbar plot are created to depict the error span of the predictions contra the true value."
   ]
  },
  {
   "cell_type": "code",
   "execution_count": null,
   "metadata": {},
   "outputs": [
    {
     "data": {
      "image/png": "[encoded data removed]",
      "text/plain": [
       "<Figure size 1500x300 with 1 Axes>"
      ]
     },
     "metadata": {},
     "output_type": "display_data"
    }
   ],
   "source": [
    "import math\n",
    "import numpy as np\n",
    "import matplotlib.pyplot as plt\n",
    "#plt.rcdefaults()\n",
    "\n",
    "diffValsSquared = []\n",
    "for i in range(len(trueVals_old)):\n",
    "    diffValsSquared.append((trueVals_old[i] - predictedVals_old[i]) ** 2)\n",
    "    \n",
    "diffVals = [math.sqrt(number) for number in diffValsSquared]\n",
    "\n",
    "# First illustrate basic pyplot interface, using defaults where possible.\n",
    "plt.errorbar(trueVals_old, predictedVals_old, yerr=diffVals, fmt='.', elinewidth=1, color='#B38E89')\n",
    "plt.grid(True)\n",
    "plt.tight_layout()\n",
    "plt.rcParams[\"figure.figsize\"] = (15,3)\n",
    "\n",
    "plt.savefig('error_selection_dnn.png')\n",
    "plt.show()"
   ]
  },
  {
   "cell_type": "markdown",
   "metadata": {},
   "source": [
    "### MSE result depiction\n",
    "\n",
    "The following graphs depicts a boxplot for the results of the dense neural network models"
   ]
  },
  {
   "cell_type": "code",
   "execution_count": null,
   "metadata": {},
   "outputs": [
    {
     "data": {
      "image/png": "[encoded data removed]",
      "text/plain": [
       "<Figure size 640x480 with 1 Axes>"
      ]
     },
     "metadata": {},
     "output_type": "display_data"
    }
   ],
   "source": [
    "%matplotlib inline\n",
    "\n",
    "import matplotlib.pyplot as plt\n",
    "import numpy as np\n",
    "plt.rcdefaults()\n",
    "\n",
    "results = result_loader()\n",
    "\n",
    "all_data = dict()\n",
    "# Random test data\n",
    "for key in [1417, 1419, 1433, 1440]:\n",
    "    for fl in [1, 5, 9, 18]:\n",
    "        if fl not in all_data.keys():\n",
    "            all_data[fl] = []\n",
    "        all_data[fl].append(results[(key, fl)].values[0][1])\n",
    "    labels = ['FL 1', 'FL 5', 'FL 9', 'FL 18']\n",
    "\n",
    "all_data = list(all_data.values())\n",
    "fig, axes = plt.subplots()\n",
    "\n",
    "# rectangular box plot\n",
    "bplot1 = axes.boxplot(all_data, 0, '',\n",
    "                         vert=True,  # vertical box alignment\n",
    "                         patch_artist=True,  # fill with color\n",
    "                         labels=labels)  # will be used to label x-ticks\n",
    "\n",
    "# fill with colors\n",
    "colors = ['pink', 'lightblue', 'lightgreen']\n",
    "for patch, color in zip(bplot1['boxes'], colors):\n",
    "    patch.set_facecolor(color)\n",
    "\n",
    "# adding horizontal grid lines\n",
    "axes.yaxis.grid(True)\n",
    "axes.set_ylim([0, 16])\n",
    "\n",
    "plt.savefig('mse_box_plot_dnn.png'.format(str(key)))\n",
    "plt.show()"
   ]
  },
  {
   "cell_type": "markdown",
   "metadata": {},
   "source": [
    "### Loading the second dataset\n",
    "\n",
    "Import the data from the data directory containing METRo forecasts and monitor data from 14th of March 2018 till the 5th of May 2019."
   ]
  },
  {
   "cell_type": "code",
   "execution_count": 1,
   "metadata": {},
   "outputs": [],
   "source": [
    "import pandas as pd\n",
    "import numpy as np\n",
    "\n",
    "def loader2():\n",
    "    \"\"\"Reading data from keys\"\"\"\n",
    "    with open(\"data2/keys.txt\", \"r\") as f:\n",
    "        keys = eval(f.read())\n",
    "\n",
    "    dictex = {}    \n",
    "    for key in keys:\n",
    "        dictex[key] = pd.read_csv(\"data2/data_{}.csv\".format(str(key)))\n",
    "\n",
    "    return dictex\n",
    "\n",
    "df = loader2()"
   ]
  },
  {
   "cell_type": "markdown",
   "metadata": {},
   "source": [
    "### Experiment 2\n",
    "\n",
    "The second experiment involves training the models on newer data collected from the spring season, that is, the models are reused and continously trained.\n",
    "\n",
    "Below is the methods used for processing the dataset, which needed a different normalizing setting because some standard deviation outcomes were zero, which makes the scaled value zero for that feature (https://stackoverflow.com/a/54623752/7296909). "
   ]
  },
  {
   "cell_type": "code",
   "execution_count": null,
   "metadata": {},
   "outputs": [],
   "source": [
    "from keras.models import model_from_json\n",
    "import h5py\n",
    "import threading\n",
    "import pandas as pd\n",
    "import warnings\n",
    "warnings.filterwarnings(\"error\")\n",
    "from keras.models import load_model\n",
    "\n",
    "def getValues(data, test_size=0.3):\n",
    "    data.set_index(\"Date Time\", inplace=True)\n",
    "    included = np.array(data[INDEPENDENT_FEATURES + ['surf_temp_sqerror']].notnull().all(axis=1))\n",
    "    rsi = {\n",
    "        \"data\": data.loc[included, INDEPENDENT_FEATURES].values.astype(np.float), \n",
    "        \"target\": data.loc[included, 'surf_temp_sqerror'].values.astype(np.float)\n",
    "    }\n",
    "    return train_test_split(rsi[\"data\"], rsi[\"target\"], test_size=0.3, random_state=0)\n",
    "\n",
    "def fit_nn_with_loaded_weights(samples, targets, model, epochs, batch_size):\n",
    "    loaded_model = load_model(model)    \n",
    "    loaded_model.fit(samples, targets,\n",
    "        epochs=epochs, batch_size=batch_size, verbose=0)\n",
    "\n",
    "    p = pickle.dumps(loaded_model)\n",
    "    print(sys.getsizeof(p))\n",
    "    \n",
    "    return loaded_model\n",
    "\n",
    "def normalize(train, test):\n",
    "    mean = train.mean(axis=0)    \n",
    "    train -= mean\n",
    "    std = train.std(axis=0)\n",
    "    for i in range(len(std)):\n",
    "        if (std[i] == 0.0):\n",
    "            std[i] = 1.0\n",
    "    train /= std\n",
    "\n",
    "    test -= mean\n",
    "    test /= std\n",
    "    return train, test"
   ]
  },
  {
   "cell_type": "markdown",
   "metadata": {},
   "source": [
    "### Experiment Method\n",
    "\n",
    "Implementation for the second experiment loading saved model architectures, weights and compilers and fitting and testing them with the new dataset."
   ]
  },
  {
   "cell_type": "code",
   "execution_count": null,
   "metadata": {},
   "outputs": [],
   "source": [
    "def experiment2(repeats, data, key, params):\n",
    "    X_train, X_test, y_train, y_test = getValues(data)\n",
    "    X_train, X_test = normalize(X_train, X_test)\n",
    "\n",
    "    MSE_benchmark = 100\n",
    "    index_val = 20\n",
    "    predictionsBest = list()\n",
    "    trueBest = list()\n",
    "\n",
    "    error_scores = list()\n",
    "    results = pd.DataFrame()\n",
    "    print(key)\n",
    "    \n",
    "    for r in range(repeats):\n",
    "        model_file = 'models/dnn/whole_models/model_{}_{}.h5'.format(key, r)\n",
    "        forest_model = fit_nn_with_loaded_weights(X_train, \n",
    "                              y_train,\n",
    "                              model_file,\n",
    "                              epochs=params['epochs'],\n",
    "                              batch_size=params['batch_size'])\n",
    "        predictions = forecast_nn(forest_model, X_test)\n",
    "        true = y_test\n",
    "                \n",
    "        mse = mean_squared_error(true, predictions)\n",
    "        print('%d) Test MSE: %.3f' % (r+1, mse))\n",
    "        error_scores.append(mse)\n",
    "        plotPredictions(key, true, predictions)\n",
    "        if (mse < MSE_benchmark):\n",
    "            MSE_benchmark = mse\n",
    "            predictionsBest = predictions\n",
    "            trueBest = true\n",
    "            index_val = r\n",
    "    print(index_val, )\n",
    "    return trueBest, predictionsBest, error_scores"
   ]
  },
  {
   "cell_type": "markdown",
   "metadata": {},
   "source": [
    "### Running the experiment\n",
    "\n",
    "The experiment is run for the selected forecast lengths (1, 5, 9 and 18) which is extracted from the dataset."
   ]
  },
  {
   "cell_type": "code",
   "execution_count": null,
   "metadata": {},
   "outputs": [],
   "source": [
    "repeats = 10\n",
    "features = 1\n",
    "results = dict()\n",
    "\n",
    "trueVals = []\n",
    "predictedVals = []\n",
    "\n",
    "def allowed_key(key):\n",
    "    if  1 in key or 5 in key or 9 in key or 18 in key:\n",
    "            return True\n",
    "    return False\n",
    "\n",
    "for key in df.keys():\n",
    "    if allowed_key(key):\n",
    "        true, predictions, error_scores = experiment2(repeats, df[key], key, neuron_params[key])\n",
    "        results[key] = error_scores\n",
    "        trueVals.extend(true)\n",
    "        predictedVals.extend(predictions)"
   ]
  },
  {
   "cell_type": "markdown",
   "metadata": {},
   "source": [
    "### Saving the results from the second experiment\n",
    "\n",
    "The results from the second experiment is saved to the results2 directory."
   ]
  },
  {
   "cell_type": "code",
   "execution_count": null,
   "metadata": {},
   "outputs": [],
   "source": [
    "import csv\n",
    "\n",
    "def saver(dictex):\n",
    "    for key, val in dictex.items():\n",
    "        val = pd.DataFrame(val)\n",
    "        val.to_csv(\"results2/dnn/results_{}.csv\".format(str(key)))\n",
    "\n",
    "    with open(\"results2/dnn/keys.txt\", \"w\") as f: #saving keys to file\n",
    "        f.write(str(list(dictex.keys())))\n",
    "        \n",
    "saver(results)"
   ]
  },
  {
   "cell_type": "markdown",
   "metadata": {},
   "source": [
    "### Testing the models on the new dataset without continous training\n",
    "\n",
    "This section tests the saved models on the new dataset without incrementally training the models on the new dataset. This is made to be able to compare if continous training of the models improves their accuracy compared to non-continously trained models."
   ]
  },
  {
   "cell_type": "code",
   "execution_count": null,
   "metadata": {},
   "outputs": [],
   "source": [
    "from keras.models import load_model\n",
    "\n",
    "def experiment3(repeats, data, key, params):\n",
    "    X_train, X_test, y_train, y_test = getValues(data)\n",
    "    X_train, X_test = normalize(X_train, X_test)\n",
    "\n",
    "    MSE_benchmark = 100\n",
    "    index_val = 20\n",
    "    predictionsBest = list()\n",
    "    trueBest = list()\n",
    "\n",
    "    error_scores = list()\n",
    "    results = pd.DataFrame()\n",
    "    print(key)\n",
    "    \n",
    "    for r in range(repeats):\n",
    "        forest_model = load_model('models/dnn/whole_models/model_{}_{}.h5'.format(key, r))\n",
    "        \n",
    "        predictions = forecast_nn(forest_model, X_test)\n",
    "        true = y_test\n",
    "                \n",
    "        mse = mean_squared_error(true, predictions)\n",
    "        print('%d) Test MSE: %.3f' % (r+1, mse))\n",
    "        error_scores.append(mse)\n",
    "        plotPredictions(key, true, predictions)\n",
    "        if (mse < MSE_benchmark):\n",
    "            MSE_benchmark = mse\n",
    "            predictionsBest = predictions\n",
    "            trueBest = true\n",
    "            index_val = r\n",
    "    print(index_val, )\n",
    "    return trueBest, predictionsBest, error_scores"
   ]
  },
  {
   "cell_type": "code",
   "execution_count": null,
   "metadata": {},
   "outputs": [],
   "source": [
    "%matplotlib inline\n",
    "\n",
    "df = loader2()\n",
    "\n",
    "repeats = 10\n",
    "features = 1\n",
    "results_old = dict()\n",
    "\n",
    "trueVals_old = []\n",
    "predictedVals_old = []\n",
    "\n",
    "def allowed_key(key):\n",
    "    if  1 in key or 5 in key or 9 in key or 18 in key:\n",
    "            return True\n",
    "    return False\n",
    "\n",
    "for key in df.keys():\n",
    "    if allowed_key(key):\n",
    "        true, predictions, error_scores = experiment3(repeats, df[key], key, neuron_params[key])\n",
    "        results_old[key] = error_scores\n",
    "        trueVals_old.extend(true)\n",
    "        predictedVals_old.extend(predictions)"
   ]
  },
  {
   "cell_type": "markdown",
   "metadata": {},
   "source": [
    "### Saving the results from the third experiment method\n",
    "The results from the third experiment is saved to the results3 directory."
   ]
  },
  {
   "cell_type": "code",
   "execution_count": null,
   "metadata": {},
   "outputs": [],
   "source": [
    "import csv\n",
    "\n",
    "def saver(dictex):\n",
    "    for key, val in dictex.items():\n",
    "        val = pd.DataFrame(val)\n",
    "        val.to_csv(\"results3/dnn/results_{}.csv\".format(str(key)))\n",
    "\n",
    "    with open(\"results3/dnn/keys.txt\", \"w\") as f: #saving keys to file\n",
    "        f.write(str(list(dictex.keys())))\n",
    "        \n",
    "saver(results)"
   ]
  },
  {
   "cell_type": "markdown",
   "metadata": {},
   "source": [
    "### Plotting the differences\n",
    "\n",
    "Below snippet creates a graph that depicts the difference in average MSE between the models trained on the new dataset and the models NOT trained on the new dataset that were tested on the new dataset."
   ]
  },
  {
   "cell_type": "code",
   "execution_count": null,
   "metadata": {},
   "outputs": [
    {
     "data": {
      "image/png": "[encoded data removed]",
      "text/plain": [
       "<Figure size 432x288 with 1 Axes>"
      ]
     },
     "metadata": {
      "needs_background": "light"
     },
     "output_type": "display_data"
    }
   ],
   "source": [
    "%matplotlib inline\n",
    "\n",
    "import matplotlib\n",
    "import matplotlib.pyplot as plt\n",
    "import numpy as np\n",
    "\n",
    "results = result_loader(directory='results2')\n",
    "results_old = result_loader(directory='results3')\n",
    "\n",
    "result_old_means = dict()\n",
    "result_means = dict()\n",
    "\n",
    "for key in results_old:\n",
    "    result_old_means[key] = np.mean(results_old[key])\n",
    "    result_means[key] = np.mean(results[key])\n",
    "\n",
    "fig, ax = plt.subplots()\n",
    "\n",
    "# Data for plotting\n",
    "o = [result_old_means[(1440, 1)], result_old_means[(1440, 5)], result_old_means[(1440, 9)], result_old_means[(1440, 18)], ]\n",
    "b = [1, 5, 9, 18]\n",
    "\n",
    "ax.plot(b, o, label='Before Training')\n",
    "\n",
    "# Data for plotting\n",
    "t = [result_means[(1440, 1)], result_means[(1440, 5)], result_means[(1440, 9)], result_means[(1440, 18)], ]\n",
    "s = [1, 5, 9, 18]\n",
    "\n",
    "ax.plot(s, t, label='After Training')\n",
    "\n",
    "ax.set(xlabel='Forecast Length', ylabel='MSE',\n",
    "       title='Station 1440')\n",
    "ax.grid()\n",
    "ax.legend()\n",
    "plt.xticks([1, 5, 9, 18])\n",
    "\n",
    "# fig.savefig(\"mse_improvement_dnn_1440.png\")\n",
    "plt.show()"
   ]
  }
 ],
 "metadata": {
  "kernelspec": {
   "display_name": "Python 3",
   "language": "python",
   "name": "python3"
  },
  "language_info": {
   "codemirror_mode": {
    "name": "ipython",
    "version": 3
   },
   "file_extension": ".py",
   "mimetype": "text/x-python",
   "name": "python",
   "nbconvert_exporter": "python",
   "pygments_lexer": "ipython3",
   "version": "3.6.8"
  }
 },
 "nbformat": 4,
 "nbformat_minor": 2
}
